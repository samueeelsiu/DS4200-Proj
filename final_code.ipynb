{
 "cells": [
  {
   "cell_type": "markdown",
   "id": "11e60fe0-04f3-4579-a4ba-cf4ddeadbeee",
   "metadata": {},
   "source": [
    "# DS 4400 Final Project\n",
    "## Group 8 Lang Shao, Haoyuan Deng, Kexin Huang"
   ]
  },
  {
   "cell_type": "markdown",
   "id": "af86cf28-9450-4732-929a-5107f9b0fb3d",
   "metadata": {},
   "source": [
    "## Data Cleaning"
   ]
  },
  {
   "cell_type": "code",
   "execution_count": 45,
   "id": "6bb4d8be-7200-4dfe-8232-a117ce61cc97",
   "metadata": {},
   "outputs": [],
   "source": [
    "import pandas as pd\n",
    "import numpy as np\n",
    "from scipy.stats.mstats import winsorize\n",
    "import matplotlib.pyplot as plt\n",
    "import seaborn as sns\n",
    "import plotly.express as px\n",
    "import plotly.graph_objects as go\n",
    "from plotly.subplots import make_subplots\n",
    "import requests\n",
    "import json\n",
    "from IPython.display import HTML, display\n",
    "import os\n",
    "import altair as alt"
   ]
  },
  {
   "cell_type": "code",
   "execution_count": 46,
   "id": "9c0bb38f-31ec-4ef4-9e93-a1dc07e3aff6",
   "metadata": {},
   "outputs": [
    {
     "name": "stderr",
     "output_type": "stream",
     "text": [
      "<>:7: SyntaxWarning:\n",
      "\n",
      "invalid escape sequence '\\$'\n",
      "\n",
      "<>:7: SyntaxWarning:\n",
      "\n",
      "invalid escape sequence '\\$'\n",
      "\n",
      "/var/folders/sw/4xrc7st92kl0js_sn1vflh100000gn/T/ipykernel_90656/3730083930.py:7: SyntaxWarning:\n",
      "\n",
      "invalid escape sequence '\\$'\n",
      "\n",
      "/var/folders/sw/4xrc7st92kl0js_sn1vflh100000gn/T/ipykernel_90656/3730083930.py:1: DtypeWarning:\n",
      "\n",
      "Columns (20) have mixed types. Specify dtype option on import or set low_memory=False.\n",
      "\n"
     ]
    },
    {
     "name": "stdout",
     "output_type": "stream",
     "text": [
      "Filled missing values in LAND_SF with median: 1996.0\n",
      "Filled missing values in YR_BUILT with median: 1920.0\n",
      "Filled missing values in BED_RMS with median: 3.0\n",
      "Filled missing values in FULL_BTH with median: 1.0\n",
      "Filled missing values in HLF_BTH with median: 0.0\n",
      "Filled missing values in FIREPLACES with median: 0.0\n",
      "Filled missing values in OVERALL_COND with 'Unknown'\n",
      "Filled missing values in KITCHEN_STYLE1 with 'Unknown'\n",
      "Filled missing values in BTHRM_STYLE1 with 'Unknown'\n",
      "Filled missing values in AC_TYPE with 'Unknown'\n",
      "Filled missing values in HEAT_TYPE with 'Unknown'\n",
      "Filled missing values in PROP_VIEW with 'Unknown'\n",
      "Filled missing values in CORNER_UNIT with 'Unknown'\n"
     ]
    }
   ],
   "source": [
    "df = pd.read_csv('fy2024-property-assessment-data_1_5_2024.csv')\n",
    "\n",
    "# fix data types for numeric columns stored as objects\n",
    "numeric_cols_to_convert = ['TOTAL_VALUE', 'LAND_SF', 'LAND_VALUE', 'BLDG_VALUE']\n",
    "for col in numeric_cols_to_convert:\n",
    "    # remove commas, dollar signs, and other non-numeric characters, then convert to float\n",
    "    df[col] = pd.to_numeric(df[col].replace('[\\$,]', '', regex=True), errors='coerce')\n",
    "\n",
    "# ensure other numeric columns are properly typed\n",
    "numeric_cols = ['TOTAL_VALUE', 'LAND_SF', 'LIVING_AREA', 'YR_BUILT', 'BED_RMS', \n",
    "                'FULL_BTH', 'HLF_BTH', 'FIREPLACES', 'LAND_VALUE', 'BLDG_VALUE']\n",
    "for col in numeric_cols:\n",
    "    df[col] = pd.to_numeric(df[col], errors='coerce')\n",
    "\n",
    "# convert ZIP_CODE to string and remove decimals\n",
    "df['ZIP_CODE'] = df['ZIP_CODE'].fillna(0).astype(int).astype(str).str.zfill(5)\n",
    "\n",
    "# handle missing values\n",
    "for col in numeric_cols:\n",
    "    if df[col].isnull().sum() > 0:\n",
    "        if col in ['TOTAL_VALUE', 'LIVING_AREA']: \n",
    "            df = df.dropna(subset=[col])\n",
    "        else: \n",
    "            df[col] = df[col].fillna(df[col].median())\n",
    "            print(f\"Filled missing values in {col} with median: {df[col].median()}\")\n",
    "\n",
    "# fill with 'Unknown' for empty rows\n",
    "categorical_cols = ['OVERALL_COND', 'KITCHEN_STYLE1', 'BTHRM_STYLE1', 'AC_TYPE', \n",
    "                    'HEAT_TYPE', 'OWN_OCC', 'PROP_VIEW', 'CORNER_UNIT']\n",
    "for col in categorical_cols:\n",
    "    if df[col].isnull().sum() > 0:\n",
    "        df[col] = df[col].fillna('Unknown')\n",
    "        print(f\"Filled missing values in {col} with 'Unknown'\")\n",
    "\n",
    "# remove outliers\n",
    "df = df[df['TOTAL_VALUE'] >= 0] \n",
    "df = df[df['LAND_SF'] >= 0]\n",
    "df = df[df['LIVING_AREA'] >= 0]\n",
    "df = df[df['YR_BUILT'].between(1600, 2025, inclusive='both') | df['YR_BUILT'].isna()]\n",
    "\n",
    "# Cap extreme values for TOTAL_VALUE\n",
    "df['TOTAL_VALUE'] = winsorize(df['TOTAL_VALUE'].dropna(), limits=[0.05, 0.05])\n",
    "\n",
    "# standardize categorical data\n",
    "df['OWN_OCC'] = df['OWN_OCC'].str.upper().replace({'YES': 'Y', 'NO': 'N', '': 'Unknown'})\n",
    "for col in ['OVERALL_COND', 'KITCHEN_STYLE1', 'BTHRM_STYLE1', 'AC_TYPE', 'HEAT_TYPE']:\n",
    "    df[col] = df[col].str.lower().str.strip()\n",
    "\n",
    "# create subsets\n",
    "keep_cols = ['ZIP_CODE', 'TOTAL_VALUE', 'LAND_SF', 'LIVING_AREA', 'YR_BUILT', 'BED_RMS', \n",
    "             'FULL_BTH', 'HLF_BTH', 'OVERALL_COND', 'KITCHEN_STYLE1', 'BTHRM_STYLE1', \n",
    "             'AC_TYPE', 'HEAT_TYPE', 'FIREPLACES', 'OWN_OCC', 'LAND_VALUE', 'BLDG_VALUE', \n",
    "             'PROP_VIEW', 'CORNER_UNIT']\n",
    "df_cleaned = df[keep_cols]"
   ]
  },
  {
   "cell_type": "code",
   "execution_count": 47,
   "id": "d0037c64-a408-45f9-8ed6-52191aa223b5",
   "metadata": {},
   "outputs": [],
   "source": [
    "def extract_unique_zip_codes(csv_file_path, zip_column_name=\"ZIP_CODE\"):\n",
    "    \"\"\"\n",
    "    Extract unique zip codes from a large CSV file\n",
    "    \"\"\"\n",
    "    chunk_size = 100000\n",
    "    \n",
    "    unique_zips = set()\n",
    "    \n",
    "    # process the file in chunks\n",
    "    for chunk in pd.read_csv(csv_file_path, chunksize=chunk_size, usecols=[zip_column_name], \n",
    "                            dtype={zip_column_name: str}, low_memory=False):\n",
    "        # filter out missing values before adding to the set\n",
    "        valid_zips = chunk[~chunk[zip_column_name].isna()][zip_column_name].astype(str).unique()\n",
    "        unique_zips.update(valid_zips)\n",
    "    \n",
    "    # remove any nan strings\n",
    "    if 'nan' in unique_zips:\n",
    "        unique_zips.remove('nan')\n",
    "    \n",
    "    # convert to integers and sort\n",
    "    unique_zips_list = sorted([int(z) for z in unique_zips if z.isdigit()])\n",
    "    return unique_zips_list\n",
    "\n",
    "# call\n",
    "if __name__ == \"__main__\":\n",
    "    file_name = \"fy2024-property-assessment-data_1_5_2024.csv\"\n",
    "    zip_column = \"ZIP_CODE\"\n",
    "    \n",
    "    unique_zips = extract_unique_zip_codes(file_name, zip_column)"
   ]
  },
  {
   "cell_type": "markdown",
   "id": "0a8a3a3a-63da-454f-b254-20439d77aedb",
   "metadata": {},
   "source": [
    "## Visualizations - 1. Map"
   ]
  },
  {
   "cell_type": "code",
   "execution_count": 48,
   "id": "be561142-9f84-4dd1-a327-82f3bf34cba1",
   "metadata": {},
   "outputs": [
    {
     "name": "stdout",
     "output_type": "stream",
     "text": [
      "  ZIP_CODE  TOTAL_VALUE  LIVING_AREA  LAND_SF  HLF_BTH  YR_BUILT  \\\n",
      "0    00000    2759900.0      27312.0  35030.0      0.0    2007.0   \n",
      "1    02026     621300.0       1384.8   6075.0      1.0    1940.0   \n",
      "2    02108    1390200.0       1291.0   1137.0      0.0    1899.0   \n",
      "3    02109     804000.0       1085.0   1021.0      0.0    1900.0   \n",
      "4    02110    1145850.0       1232.5   1232.0      0.0    1972.0   \n",
      "\n",
      "   PRICE_PER_SQFT  PROPERTY_COUNT  \n",
      "0      101.050820               1  \n",
      "1      448.656846               4  \n",
      "2     1076.839659            1815  \n",
      "3      741.013825            1647  \n",
      "4      929.695740            1914  \n",
      "\n",
      "Zip codes with highest median values:\n",
      "   ZIP_CODE  TOTAL_VALUE  PRICE_PER_SQFT  PROPERTY_COUNT\n",
      "0     00000    2759900.0      101.050820               1\n",
      "24    02133    2759900.0        5.311300               1\n",
      "30    02201    2759900.0       31.995687               2\n",
      "29    02199    2759900.0      718.630387              34\n",
      "33    02219    2563500.0       47.028068               1\n"
     ]
    }
   ],
   "source": [
    "# calculate median values for each zip code\n",
    "zip_stats = df.groupby('ZIP_CODE').agg({\n",
    "    'TOTAL_VALUE': 'median',\n",
    "    'LIVING_AREA': 'median',\n",
    "    'LAND_SF': 'median',\n",
    "    'HLF_BTH': 'median',\n",
    "    'YR_BUILT': 'median'\n",
    "}).reset_index()\n",
    "\n",
    "# calculate price/square foot\n",
    "zip_stats['PRICE_PER_SQFT'] = zip_stats['TOTAL_VALUE'] / zip_stats['LIVING_AREA']\n",
    "\n",
    "# add count of properties per zip code\n",
    "zip_stats['PROPERTY_COUNT'] = df.groupby('ZIP_CODE').size().values\n",
    "\n",
    "# print the aggregated data\n",
    "print(zip_stats.head())\n",
    "print(f\"\\nZip codes with highest median values:\")\n",
    "print(zip_stats.sort_values('TOTAL_VALUE', ascending=False).head(5)[['ZIP_CODE', 'TOTAL_VALUE', 'PRICE_PER_SQFT', 'PROPERTY_COUNT']])"
   ]
  },
  {
   "cell_type": "code",
   "execution_count": 49,
   "id": "9c684eb6-37d8-40bf-a54e-19797d603482",
   "metadata": {},
   "outputs": [],
   "source": [
    "def get_zip_geo_coordinates(zip_codes):\n",
    "    \"\"\"\n",
    "    Get approximate latitude/longitude for ZIP codes in this dataset using public data.\n",
    "\n",
    "    \"\"\"\n",
    "    boston_zip = {\n",
    "    '02026': (42.2465, -71.1265),  # Dedham\n",
    "    '02108': (42.3586, -71.0631),  # Downtown/Beacon Hill\n",
    "    '02109': (42.3604, -71.0545),  # North End\n",
    "    '02110': (42.3591, -71.0507),  # Financial District\n",
    "    '02111': (42.3519, -71.0629),  # Chinatown\n",
    "    '02113': (42.3661, -71.0543),  # North End\n",
    "    '02114': (42.3625, -71.0677),  # West End/Beacon Hill\n",
    "    '02115': (42.3431, -71.0887),  # Fenway/Longwood\n",
    "    '02116': (42.3523, -71.0737),  # Back Bay\n",
    "    '02118': (42.3417, -71.0727),  # South End\n",
    "    '02119': (42.3267, -71.0918),  # Roxbury\n",
    "    '02120': (42.3353, -71.0956),  # Mission Hill\n",
    "    '02121': (42.3064, -71.0793),  # Dorchester\n",
    "    '02122': (42.3011, -71.0552),  # Dorchester\n",
    "    '02124': (42.2845, -71.0762),  # Dorchester\n",
    "    '02125': (42.3118, -71.0606),  # Dorchester\n",
    "    '02126': (42.2690, -71.0928),  # Mattapan\n",
    "    '02127': (42.3382, -71.0476),  # South Boston\n",
    "    '02128': (42.3758, -71.0258),  # East Boston\n",
    "    '02129': (42.3785, -71.0664),  # Charlestown\n",
    "    '02130': (42.3088, -71.1132),  # Jamaica Plain\n",
    "    '02131': (42.2841, -71.1328),  # Roslindale\n",
    "    '02132': (42.2804, -71.1663),  # West Roxbury\n",
    "    '02133': (42.3604, -71.0594),  # Government Center\n",
    "    '02134': (42.3562, -71.1311),  # Allston\n",
    "    '02135': (42.3503, -71.1540),  # Brighton\n",
    "    '02136': (42.2555, -71.1238),  # Hyde Park\n",
    "    '02137': (42.3075, -71.1013),  # Readville\n",
    "    '02199': (42.3469, -71.0822),  # Prudential\n",
    "    '02201': (42.3564, -71.0577),  # Downtown Crossing\n",
    "    '02210': (42.3482, -71.0456),  # Seaport\n",
    "    '02215': (42.3477, -71.1042),  # Kenmore/BU\n",
    "    '02219': (42.3523, -71.0567),  # Fort Point\n",
    "    '02445': (42.3310, -71.1226),  # Brookline\n",
    "    '02446': (42.3418, -71.1212),  # Brookline\n",
    "    '02458': (42.3651, -71.1932),  # Newton\n",
    "    '02467': (42.3229, -71.1669),  # Chestnut Hill\n",
    "}\n",
    "    \n",
    "    all_zips_coords = {}\n",
    "    known_lats = [coords[0] for coords in boston_zip.values()]\n",
    "    known_lons = [coords[1] for coords in boston_zip.values()]\n",
    "    \n",
    "    center_lat = sum(known_lats) / len(known_lats)\n",
    "    center_lon = sum(known_lons) / len(known_lons)\n",
    "    \n",
    "    for zip_code in zip_codes:\n",
    "        if zip_code in boston_zip:\n",
    "            all_zips_coords[zip_code] = boston_zip[zip_code]\n",
    "        else:\n",
    "            import random\n",
    "            # use zipcode as seed for consistency\n",
    "            random.seed(int(zip_code)) \n",
    "            lat_offset = random.uniform(-0.05, 0.05)\n",
    "            lon_offset = random.uniform(-0.05, 0.05)\n",
    "            all_zips_coords[zip_code] = (center_lat + lat_offset, center_lon + lon_offset)\n",
    "    \n",
    "    return all_zips_coords\n",
    "\n",
    "# get coordinates from the dataset\n",
    "zip_coordinates = get_zip_geo_coordinates(zip_stats['ZIP_CODE'].unique())\n",
    "\n",
    "# add coordinates to aggregated data\n",
    "zip_stats['LAT'] = zip_stats['ZIP_CODE'].map(lambda z: zip_coordinates.get(z, (0, 0))[0])\n",
    "zip_stats['LON'] = zip_stats['ZIP_CODE'].map(lambda z: zip_coordinates.get(z, (0, 0))[1])"
   ]
  },
  {
   "cell_type": "code",
   "execution_count": 50,
   "id": "36f31a43-e60a-4791-90e5-ab6f7e4e9f15",
   "metadata": {},
   "outputs": [
    {
     "data": {
      "application/vnd.plotly.v1+json": {
       "config": {
        "plotlyServerURL": "https://plot.ly"
       },
       "data": [
        {
         "customdata": [
          [
           2759900,
           10.002540220152413,
           42.36646921217954,
           -71.06442888403029,
           "$2,759,900",
           "$101",
           1
          ],
          [
           621300,
           10.010160880609654,
           42.2465,
           -71.1265,
           "$621,300",
           "$449",
           4
          ],
          [
           1390200,
           14.610499576629975,
           42.3586,
           -71.0631,
           "$1,390,200",
           "$1,077",
           1815
          ],
          [
           804000,
           14.183742591024556,
           42.3604,
           -71.0545,
           "$804,000",
           "$741",
           1647
          ],
          [
           1145850,
           14.861981371718883,
           42.3591,
           -71.0507,
           "$1,145,850",
           "$930",
           1914
          ],
          [
           873100,
           15.827265029635901,
           42.3519,
           -71.0629,
           "$873,100",
           "$743",
           2294
          ],
          [
           680400,
           15.022015241320915,
           42.3661,
           -71.0543,
           "$680,400",
           "$788",
           1977
          ],
          [
           723800,
           20.031329381879765,
           42.3625,
           -71.0677,
           "$723,800",
           "$855",
           3949
          ],
          [
           804900,
           20.234546994072822,
           42.3431,
           -71.0887,
           "$804,900",
           "$870",
           4029
          ],
          [
           1217700,
           30.57324301439458,
           42.3523,
           -71.0737,
           "$1,217,700",
           "$1,059",
           8099
          ],
          [
           925300,
           26.917866215071975,
           42.3417,
           -71.0727,
           "$925,300",
           "$866",
           6660
          ],
          [
           620700,
           21.04995766299746,
           42.3267,
           -71.0918,
           "$620,700",
           "$270",
           4350
          ],
          [
           969400,
           13.701100762066046,
           42.3353,
           -71.0956,
           "$969,400",
           "$399",
           1457
          ],
          [
           691700,
           18.78662150719729,
           42.3064,
           -71.0793,
           "$691,700",
           "$203",
           3459
          ],
          [
           670200,
           23.374259102455547,
           42.3011,
           -71.0552,
           "$670,200",
           "$326",
           5265
          ],
          [
           692200,
           34.24640135478408,
           42.2845,
           -71.0762,
           "$692,200",
           "$284",
           9545
          ],
          [
           702500,
           25.657917019475022,
           42.3118,
           -71.0606,
           "$702,500",
           "$306",
           6164
          ],
          [
           577650,
           20.333615580016936,
           42.269,
           -71.0928,
           "$577,650",
           "$295",
           4068
          ],
          [
           801050,
           40,
           42.3382,
           -71.0476,
           "$801,050",
           "$658",
           11810
          ],
          [
           668800,
           31.386113463166808,
           42.3758,
           -71.0258,
           "$668,800",
           "$390",
           8419
          ],
          [
           852000,
           24.070279424216764,
           42.3785,
           -71.0664,
           "$852,000",
           "$690",
           5539
          ],
          [
           753550,
           34.82811176968671,
           42.3088,
           -71.1132,
           "$753,550",
           "$500",
           9774
          ],
          [
           652900,
           30.141405588484336,
           42.2841,
           -71.1328,
           "$652,900",
           "$386",
           7929
          ],
          [
           684300,
           33.392887383573246,
           42.2804,
           -71.1663,
           "$684,300",
           "$427",
           9209
          ],
          [
           2759900,
           10.002540220152413,
           42.3604,
           -71.0594,
           "$2,759,900",
           "$5",
           1
          ],
          [
           600100,
           20.31329381879763,
           42.3562,
           -71.1311,
           "$600,100",
           "$467",
           4060
          ],
          [
           532600,
           37.78238780694327,
           42.3503,
           -71.154,
           "$532,600",
           "$502",
           10937
          ],
          [
           546450,
           30.159187129551228,
           42.2555,
           -71.1238,
           "$546,450",
           "$334",
           7936
          ],
          [
           1794850,
           10.005080440304827,
           42.3075,
           -71.1013,
           "$1,794,850",
           "$44",
           2
          ],
          [
           2759900,
           10.086367485182048,
           42.3469,
           -71.0822,
           "$2,759,900",
           "$719",
           34
          ],
          [
           2759900,
           10.005080440304827,
           42.3564,
           -71.0577,
           "$2,759,900",
           "$32",
           2
          ],
          [
           1498750,
           14.038950042337003,
           42.3482,
           -71.0456,
           "$1,498,750",
           "$1,170",
           1590
          ],
          [
           636100,
           18.044877222692634,
           42.3477,
           -71.1042,
           "$636,100",
           "$858",
           3167
          ],
          [
           2563500,
           10.002540220152413,
           42.3523,
           -71.0567,
           "$2,563,500",
           "$47",
           1
          ],
          [
           1640800,
           10.033022861981372,
           42.331,
           -71.1226,
           "$1,640,800",
           "$334",
           13
          ],
          [
           990750,
           10.025402201524132,
           42.3418,
           -71.1212,
           "$990,750",
           "$399",
           10
          ],
          [
           679900,
           10.002540220152413,
           42.3651,
           -71.1932,
           "$679,900",
           "$296",
           1
          ],
          [
           365800,
           12.461473327688399,
           42.3229,
           -71.1669,
           "$365,800",
           "$461",
           969
          ]
         ],
         "hovertemplate": "<b>ZIP Code: %{hovertext}</b><br>Median Value: %{customdata[0]}<br>Price per SqFt: %{customdata[1]}<br>Properties: %{customdata[2]}<br>",
         "hovertext": [
          "00000",
          "02026",
          "02108",
          "02109",
          "02110",
          "02111",
          "02113",
          "02114",
          "02115",
          "02116",
          "02118",
          "02119",
          "02120",
          "02121",
          "02122",
          "02124",
          "02125",
          "02126",
          "02127",
          "02128",
          "02129",
          "02130",
          "02131",
          "02132",
          "02133",
          "02134",
          "02135",
          "02136",
          "02137",
          "02199",
          "02201",
          "02210",
          "02215",
          "02219",
          "02445",
          "02446",
          "02458",
          "02467"
         ],
         "lat": [
          42.36646921217954,
          42.2465,
          42.3586,
          42.3604,
          42.3591,
          42.3519,
          42.3661,
          42.3625,
          42.3431,
          42.3523,
          42.3417,
          42.3267,
          42.3353,
          42.3064,
          42.3011,
          42.2845,
          42.3118,
          42.269,
          42.3382,
          42.3758,
          42.3785,
          42.3088,
          42.2841,
          42.2804,
          42.3604,
          42.3562,
          42.3503,
          42.2555,
          42.3075,
          42.3469,
          42.3564,
          42.3482,
          42.3477,
          42.3523,
          42.331,
          42.3418,
          42.3651,
          42.3229
         ],
         "legendgroup": "",
         "lon": [
          -71.06442888403029,
          -71.1265,
          -71.0631,
          -71.0545,
          -71.0507,
          -71.0629,
          -71.0543,
          -71.0677,
          -71.0887,
          -71.0737,
          -71.0727,
          -71.0918,
          -71.0956,
          -71.0793,
          -71.0552,
          -71.0762,
          -71.0606,
          -71.0928,
          -71.0476,
          -71.0258,
          -71.0664,
          -71.1132,
          -71.1328,
          -71.1663,
          -71.0594,
          -71.1311,
          -71.154,
          -71.1238,
          -71.1013,
          -71.0822,
          -71.0577,
          -71.0456,
          -71.1042,
          -71.0567,
          -71.1226,
          -71.1212,
          -71.1932,
          -71.1669
         ],
         "marker": {
          "color": [
           2759900,
           621300,
           1390200,
           804000,
           1145850,
           873100,
           680400,
           723800,
           804900,
           1217700,
           925300,
           620700,
           969400,
           691700,
           670200,
           692200,
           702500,
           577650,
           801050,
           668800,
           852000,
           753550,
           652900,
           684300,
           2759900,
           600100,
           532600,
           546450,
           1794850,
           2759900,
           2759900,
           1498750,
           636100,
           2563500,
           1640800,
           990750,
           679900,
           365800
          ],
          "coloraxis": "coloraxis",
          "size": [
           10.002540220152413,
           10.010160880609654,
           14.610499576629975,
           14.183742591024556,
           14.861981371718883,
           15.827265029635901,
           15.022015241320915,
           20.031329381879765,
           20.234546994072822,
           30.57324301439458,
           26.917866215071975,
           21.04995766299746,
           13.701100762066046,
           18.78662150719729,
           23.374259102455547,
           34.24640135478408,
           25.657917019475022,
           20.333615580016936,
           40,
           31.386113463166808,
           24.070279424216764,
           34.82811176968671,
           30.141405588484336,
           33.392887383573246,
           10.002540220152413,
           20.31329381879763,
           37.78238780694327,
           30.159187129551228,
           10.005080440304827,
           10.086367485182048,
           10.005080440304827,
           14.038950042337003,
           18.044877222692634,
           10.002540220152413,
           10.033022861981372,
           10.025402201524132,
           10.002540220152413,
           12.461473327688399
          ],
          "sizemode": "area",
          "sizeref": 0.025
         },
         "mode": "markers",
         "name": "",
         "showlegend": false,
         "subplot": "mapbox",
         "type": "scattermapbox"
        }
       ],
       "layout": {
        "annotations": [
         {
          "align": "left",
          "bgcolor": "white",
          "bordercolor": "black",
          "borderpad": 4,
          "borderwidth": 1,
          "font": {
           "size": 12
          },
          "showarrow": false,
          "text": "Circle size represents number of properties in each ZIP code.<br>Color represents median home value.",
          "x": 0.01,
          "xref": "paper",
          "y": 0.01,
          "yref": "paper"
         }
        ],
        "coloraxis": {
         "colorbar": {
          "tickformat": ",.0f",
          "tickprefix": "$",
          "title": {
           "text": "Median<br>Home Value"
          }
         },
         "colorscale": [
          [
           0,
           "#440154"
          ],
          [
           0.1111111111111111,
           "#482878"
          ],
          [
           0.2222222222222222,
           "#3e4989"
          ],
          [
           0.3333333333333333,
           "#31688e"
          ],
          [
           0.4444444444444444,
           "#26828e"
          ],
          [
           0.5555555555555556,
           "#1f9e89"
          ],
          [
           0.6666666666666666,
           "#35b779"
          ],
          [
           0.7777777777777778,
           "#6ece58"
          ],
          [
           0.8888888888888888,
           "#b5de2b"
          ],
          [
           1,
           "#fde725"
          ]
         ]
        },
        "height": 800,
        "legend": {
         "itemsizing": "constant",
         "tracegroupgap": 0
        },
        "mapbox": {
         "center": {
          "lat": 42.3601,
          "lon": -71.0589
         },
         "domain": {
          "x": [
           0,
           1
          ],
          "y": [
           0,
           1
          ]
         },
         "style": "carto-positron",
         "zoom": 10.5
        },
        "template": {
         "data": {
          "bar": [
           {
            "error_x": {
             "color": "#2a3f5f"
            },
            "error_y": {
             "color": "#2a3f5f"
            },
            "marker": {
             "line": {
              "color": "#E5ECF6",
              "width": 0.5
             },
             "pattern": {
              "fillmode": "overlay",
              "size": 10,
              "solidity": 0.2
             }
            },
            "type": "bar"
           }
          ],
          "barpolar": [
           {
            "marker": {
             "line": {
              "color": "#E5ECF6",
              "width": 0.5
             },
             "pattern": {
              "fillmode": "overlay",
              "size": 10,
              "solidity": 0.2
             }
            },
            "type": "barpolar"
           }
          ],
          "carpet": [
           {
            "aaxis": {
             "endlinecolor": "#2a3f5f",
             "gridcolor": "white",
             "linecolor": "white",
             "minorgridcolor": "white",
             "startlinecolor": "#2a3f5f"
            },
            "baxis": {
             "endlinecolor": "#2a3f5f",
             "gridcolor": "white",
             "linecolor": "white",
             "minorgridcolor": "white",
             "startlinecolor": "#2a3f5f"
            },
            "type": "carpet"
           }
          ],
          "choropleth": [
           {
            "colorbar": {
             "outlinewidth": 0,
             "ticks": ""
            },
            "type": "choropleth"
           }
          ],
          "contour": [
           {
            "colorbar": {
             "outlinewidth": 0,
             "ticks": ""
            },
            "colorscale": [
             [
              0,
              "#0d0887"
             ],
             [
              0.1111111111111111,
              "#46039f"
             ],
             [
              0.2222222222222222,
              "#7201a8"
             ],
             [
              0.3333333333333333,
              "#9c179e"
             ],
             [
              0.4444444444444444,
              "#bd3786"
             ],
             [
              0.5555555555555556,
              "#d8576b"
             ],
             [
              0.6666666666666666,
              "#ed7953"
             ],
             [
              0.7777777777777778,
              "#fb9f3a"
             ],
             [
              0.8888888888888888,
              "#fdca26"
             ],
             [
              1,
              "#f0f921"
             ]
            ],
            "type": "contour"
           }
          ],
          "contourcarpet": [
           {
            "colorbar": {
             "outlinewidth": 0,
             "ticks": ""
            },
            "type": "contourcarpet"
           }
          ],
          "heatmap": [
           {
            "colorbar": {
             "outlinewidth": 0,
             "ticks": ""
            },
            "colorscale": [
             [
              0,
              "#0d0887"
             ],
             [
              0.1111111111111111,
              "#46039f"
             ],
             [
              0.2222222222222222,
              "#7201a8"
             ],
             [
              0.3333333333333333,
              "#9c179e"
             ],
             [
              0.4444444444444444,
              "#bd3786"
             ],
             [
              0.5555555555555556,
              "#d8576b"
             ],
             [
              0.6666666666666666,
              "#ed7953"
             ],
             [
              0.7777777777777778,
              "#fb9f3a"
             ],
             [
              0.8888888888888888,
              "#fdca26"
             ],
             [
              1,
              "#f0f921"
             ]
            ],
            "type": "heatmap"
           }
          ],
          "heatmapgl": [
           {
            "colorbar": {
             "outlinewidth": 0,
             "ticks": ""
            },
            "colorscale": [
             [
              0,
              "#0d0887"
             ],
             [
              0.1111111111111111,
              "#46039f"
             ],
             [
              0.2222222222222222,
              "#7201a8"
             ],
             [
              0.3333333333333333,
              "#9c179e"
             ],
             [
              0.4444444444444444,
              "#bd3786"
             ],
             [
              0.5555555555555556,
              "#d8576b"
             ],
             [
              0.6666666666666666,
              "#ed7953"
             ],
             [
              0.7777777777777778,
              "#fb9f3a"
             ],
             [
              0.8888888888888888,
              "#fdca26"
             ],
             [
              1,
              "#f0f921"
             ]
            ],
            "type": "heatmapgl"
           }
          ],
          "histogram": [
           {
            "marker": {
             "pattern": {
              "fillmode": "overlay",
              "size": 10,
              "solidity": 0.2
             }
            },
            "type": "histogram"
           }
          ],
          "histogram2d": [
           {
            "colorbar": {
             "outlinewidth": 0,
             "ticks": ""
            },
            "colorscale": [
             [
              0,
              "#0d0887"
             ],
             [
              0.1111111111111111,
              "#46039f"
             ],
             [
              0.2222222222222222,
              "#7201a8"
             ],
             [
              0.3333333333333333,
              "#9c179e"
             ],
             [
              0.4444444444444444,
              "#bd3786"
             ],
             [
              0.5555555555555556,
              "#d8576b"
             ],
             [
              0.6666666666666666,
              "#ed7953"
             ],
             [
              0.7777777777777778,
              "#fb9f3a"
             ],
             [
              0.8888888888888888,
              "#fdca26"
             ],
             [
              1,
              "#f0f921"
             ]
            ],
            "type": "histogram2d"
           }
          ],
          "histogram2dcontour": [
           {
            "colorbar": {
             "outlinewidth": 0,
             "ticks": ""
            },
            "colorscale": [
             [
              0,
              "#0d0887"
             ],
             [
              0.1111111111111111,
              "#46039f"
             ],
             [
              0.2222222222222222,
              "#7201a8"
             ],
             [
              0.3333333333333333,
              "#9c179e"
             ],
             [
              0.4444444444444444,
              "#bd3786"
             ],
             [
              0.5555555555555556,
              "#d8576b"
             ],
             [
              0.6666666666666666,
              "#ed7953"
             ],
             [
              0.7777777777777778,
              "#fb9f3a"
             ],
             [
              0.8888888888888888,
              "#fdca26"
             ],
             [
              1,
              "#f0f921"
             ]
            ],
            "type": "histogram2dcontour"
           }
          ],
          "mesh3d": [
           {
            "colorbar": {
             "outlinewidth": 0,
             "ticks": ""
            },
            "type": "mesh3d"
           }
          ],
          "parcoords": [
           {
            "line": {
             "colorbar": {
              "outlinewidth": 0,
              "ticks": ""
             }
            },
            "type": "parcoords"
           }
          ],
          "pie": [
           {
            "automargin": true,
            "type": "pie"
           }
          ],
          "scatter": [
           {
            "fillpattern": {
             "fillmode": "overlay",
             "size": 10,
             "solidity": 0.2
            },
            "type": "scatter"
           }
          ],
          "scatter3d": [
           {
            "line": {
             "colorbar": {
              "outlinewidth": 0,
              "ticks": ""
             }
            },
            "marker": {
             "colorbar": {
              "outlinewidth": 0,
              "ticks": ""
             }
            },
            "type": "scatter3d"
           }
          ],
          "scattercarpet": [
           {
            "marker": {
             "colorbar": {
              "outlinewidth": 0,
              "ticks": ""
             }
            },
            "type": "scattercarpet"
           }
          ],
          "scattergeo": [
           {
            "marker": {
             "colorbar": {
              "outlinewidth": 0,
              "ticks": ""
             }
            },
            "type": "scattergeo"
           }
          ],
          "scattergl": [
           {
            "marker": {
             "colorbar": {
              "outlinewidth": 0,
              "ticks": ""
             }
            },
            "type": "scattergl"
           }
          ],
          "scattermapbox": [
           {
            "marker": {
             "colorbar": {
              "outlinewidth": 0,
              "ticks": ""
             }
            },
            "type": "scattermapbox"
           }
          ],
          "scatterpolar": [
           {
            "marker": {
             "colorbar": {
              "outlinewidth": 0,
              "ticks": ""
             }
            },
            "type": "scatterpolar"
           }
          ],
          "scatterpolargl": [
           {
            "marker": {
             "colorbar": {
              "outlinewidth": 0,
              "ticks": ""
             }
            },
            "type": "scatterpolargl"
           }
          ],
          "scatterternary": [
           {
            "marker": {
             "colorbar": {
              "outlinewidth": 0,
              "ticks": ""
             }
            },
            "type": "scatterternary"
           }
          ],
          "surface": [
           {
            "colorbar": {
             "outlinewidth": 0,
             "ticks": ""
            },
            "colorscale": [
             [
              0,
              "#0d0887"
             ],
             [
              0.1111111111111111,
              "#46039f"
             ],
             [
              0.2222222222222222,
              "#7201a8"
             ],
             [
              0.3333333333333333,
              "#9c179e"
             ],
             [
              0.4444444444444444,
              "#bd3786"
             ],
             [
              0.5555555555555556,
              "#d8576b"
             ],
             [
              0.6666666666666666,
              "#ed7953"
             ],
             [
              0.7777777777777778,
              "#fb9f3a"
             ],
             [
              0.8888888888888888,
              "#fdca26"
             ],
             [
              1,
              "#f0f921"
             ]
            ],
            "type": "surface"
           }
          ],
          "table": [
           {
            "cells": {
             "fill": {
              "color": "#EBF0F8"
             },
             "line": {
              "color": "white"
             }
            },
            "header": {
             "fill": {
              "color": "#C8D4E3"
             },
             "line": {
              "color": "white"
             }
            },
            "type": "table"
           }
          ]
         },
         "layout": {
          "annotationdefaults": {
           "arrowcolor": "#2a3f5f",
           "arrowhead": 0,
           "arrowwidth": 1
          },
          "autotypenumbers": "strict",
          "coloraxis": {
           "colorbar": {
            "outlinewidth": 0,
            "ticks": ""
           }
          },
          "colorscale": {
           "diverging": [
            [
             0,
             "#8e0152"
            ],
            [
             0.1,
             "#c51b7d"
            ],
            [
             0.2,
             "#de77ae"
            ],
            [
             0.3,
             "#f1b6da"
            ],
            [
             0.4,
             "#fde0ef"
            ],
            [
             0.5,
             "#f7f7f7"
            ],
            [
             0.6,
             "#e6f5d0"
            ],
            [
             0.7,
             "#b8e186"
            ],
            [
             0.8,
             "#7fbc41"
            ],
            [
             0.9,
             "#4d9221"
            ],
            [
             1,
             "#276419"
            ]
           ],
           "sequential": [
            [
             0,
             "#0d0887"
            ],
            [
             0.1111111111111111,
             "#46039f"
            ],
            [
             0.2222222222222222,
             "#7201a8"
            ],
            [
             0.3333333333333333,
             "#9c179e"
            ],
            [
             0.4444444444444444,
             "#bd3786"
            ],
            [
             0.5555555555555556,
             "#d8576b"
            ],
            [
             0.6666666666666666,
             "#ed7953"
            ],
            [
             0.7777777777777778,
             "#fb9f3a"
            ],
            [
             0.8888888888888888,
             "#fdca26"
            ],
            [
             1,
             "#f0f921"
            ]
           ],
           "sequentialminus": [
            [
             0,
             "#0d0887"
            ],
            [
             0.1111111111111111,
             "#46039f"
            ],
            [
             0.2222222222222222,
             "#7201a8"
            ],
            [
             0.3333333333333333,
             "#9c179e"
            ],
            [
             0.4444444444444444,
             "#bd3786"
            ],
            [
             0.5555555555555556,
             "#d8576b"
            ],
            [
             0.6666666666666666,
             "#ed7953"
            ],
            [
             0.7777777777777778,
             "#fb9f3a"
            ],
            [
             0.8888888888888888,
             "#fdca26"
            ],
            [
             1,
             "#f0f921"
            ]
           ]
          },
          "colorway": [
           "#636efa",
           "#EF553B",
           "#00cc96",
           "#ab63fa",
           "#FFA15A",
           "#19d3f3",
           "#FF6692",
           "#B6E880",
           "#FF97FF",
           "#FECB52"
          ],
          "font": {
           "color": "#2a3f5f"
          },
          "geo": {
           "bgcolor": "white",
           "lakecolor": "white",
           "landcolor": "#E5ECF6",
           "showlakes": true,
           "showland": true,
           "subunitcolor": "white"
          },
          "hoverlabel": {
           "align": "left"
          },
          "hovermode": "closest",
          "mapbox": {
           "style": "light"
          },
          "paper_bgcolor": "white",
          "plot_bgcolor": "#E5ECF6",
          "polar": {
           "angularaxis": {
            "gridcolor": "white",
            "linecolor": "white",
            "ticks": ""
           },
           "bgcolor": "#E5ECF6",
           "radialaxis": {
            "gridcolor": "white",
            "linecolor": "white",
            "ticks": ""
           }
          },
          "scene": {
           "xaxis": {
            "backgroundcolor": "#E5ECF6",
            "gridcolor": "white",
            "gridwidth": 2,
            "linecolor": "white",
            "showbackground": true,
            "ticks": "",
            "zerolinecolor": "white"
           },
           "yaxis": {
            "backgroundcolor": "#E5ECF6",
            "gridcolor": "white",
            "gridwidth": 2,
            "linecolor": "white",
            "showbackground": true,
            "ticks": "",
            "zerolinecolor": "white"
           },
           "zaxis": {
            "backgroundcolor": "#E5ECF6",
            "gridcolor": "white",
            "gridwidth": 2,
            "linecolor": "white",
            "showbackground": true,
            "ticks": "",
            "zerolinecolor": "white"
           }
          },
          "shapedefaults": {
           "line": {
            "color": "#2a3f5f"
           }
          },
          "ternary": {
           "aaxis": {
            "gridcolor": "white",
            "linecolor": "white",
            "ticks": ""
           },
           "baxis": {
            "gridcolor": "white",
            "linecolor": "white",
            "ticks": ""
           },
           "bgcolor": "#E5ECF6",
           "caxis": {
            "gridcolor": "white",
            "linecolor": "white",
            "ticks": ""
           }
          },
          "title": {
           "x": 0.05
          },
          "xaxis": {
           "automargin": true,
           "gridcolor": "white",
           "linecolor": "white",
           "ticks": "",
           "title": {
            "standoff": 15
           },
           "zerolinecolor": "white",
           "zerolinewidth": 2
          },
          "yaxis": {
           "automargin": true,
           "gridcolor": "white",
           "linecolor": "white",
           "ticks": "",
           "title": {
            "standoff": 15
           },
           "zerolinecolor": "white",
           "zerolinewidth": 2
          }
         }
        },
        "title": {
         "text": "Boston Housing Prices by ZIP Code"
        },
        "width": 1000
       }
      }
     },
     "metadata": {},
     "output_type": "display_data"
    }
   ],
   "source": [
    "# normalize the values for bubble size\n",
    "zip_stats['BUBBLE_SIZE'] = (zip_stats['PROPERTY_COUNT'] / zip_stats['PROPERTY_COUNT'].max() * 30) + 10\n",
    "\n",
    "# format values for hover text\n",
    "zip_stats['HOVER_VALUE'] = zip_stats['TOTAL_VALUE'].apply(lambda x: f\"${x:,.0f}\")\n",
    "zip_stats['HOVER_SQFT'] = zip_stats['PRICE_PER_SQFT'].apply(lambda x: f\"${x:,.0f}\")\n",
    "\n",
    "# create the color scale\n",
    "fig = px.scatter_mapbox(\n",
    "    zip_stats, \n",
    "    lat=\"LAT\", \n",
    "    lon=\"LON\", \n",
    "    color=\"TOTAL_VALUE\",\n",
    "    size=\"BUBBLE_SIZE\",\n",
    "    hover_name=\"ZIP_CODE\",\n",
    "    hover_data={\n",
    "        \"TOTAL_VALUE\": False,  \n",
    "        \"BUBBLE_SIZE\": False,\n",
    "        \"LAT\": False,\n",
    "        \"LON\": False, \n",
    "        \"HOVER_VALUE\": True,   \n",
    "        \"HOVER_SQFT\": True,   \n",
    "        \"PROPERTY_COUNT\": True, \n",
    "    },\n",
    "    color_continuous_scale=\"Viridis\",\n",
    "    size_max=40,\n",
    "    zoom=10.5,\n",
    "    height=800,\n",
    "    width=1000,\n",
    "    mapbox_style=\"carto-positron\",\n",
    "    center={\"lat\": 42.3601, \"lon\": -71.0589},  \n",
    "    labels={\n",
    "        \"HOVER_VALUE\": \"Median Value\",\n",
    "        \"HOVER_SQFT\": \"Price per SqFt\",\n",
    "        \"PROPERTY_COUNT\": \"Properties\",\n",
    "    },\n",
    "    title=\"Boston Housing Prices by ZIP Code\"\n",
    ")\n",
    "\n",
    "# update hover template\n",
    "fig.update_traces(\n",
    "    hovertemplate=\"<b>ZIP Code: %{hovertext}</b><br>\" +\n",
    "                  \"Median Value: %{customdata[0]}<br>\" +\n",
    "                  \"Price per SqFt: %{customdata[1]}<br>\" +\n",
    "                  \"Properties: %{customdata[2]}<br>\"\n",
    ")\n",
    "\n",
    "# add annotation explaining the visualization\n",
    "fig.add_annotation(\n",
    "    x=0.01, y=0.01,\n",
    "    xref=\"paper\", yref=\"paper\",\n",
    "    text=\"Circle size represents number of properties in each ZIP code.<br>Color represents median home value.\",\n",
    "    showarrow=False,\n",
    "    font=dict(size=12),\n",
    "    bgcolor=\"white\",\n",
    "    bordercolor=\"black\",\n",
    "    borderwidth=1,\n",
    "    borderpad=4,\n",
    "    align=\"left\"\n",
    ")\n",
    "\n",
    "# configure the colorbar\n",
    "fig.update_layout(\n",
    "    coloraxis_colorbar=dict(\n",
    "        title=\"Median<br>Home Value\",\n",
    "        tickprefix=\"$\",\n",
    "        tickformat=\",.0f\",\n",
    "    )\n",
    ")\n",
    "\n",
    "# show and save the map\n",
    "fig.show()\n",
    "fig.write_html(\"boston_housing_prices_map.html\")"
   ]
  },
  {
   "cell_type": "markdown",
   "id": "2557e5c8-69f5-4b6d-b38b-218114b47fa8",
   "metadata": {},
   "source": [
    "## Visualization - 2.Property Age vs. Value Analysis by Neighborhood Stacked Bar Chart"
   ]
  },
  {
   "cell_type": "code",
   "execution_count": 51,
   "id": "6bdaac70-2215-4789-b1c9-2f393d42b5d0",
   "metadata": {},
   "outputs": [
    {
     "name": "stderr",
     "output_type": "stream",
     "text": [
      "/var/folders/sw/4xrc7st92kl0js_sn1vflh100000gn/T/ipykernel_90656/2969179227.py:15: FutureWarning:\n",
      "\n",
      "The default of observed=False is deprecated and will be changed to True in a future version of pandas. Pass observed=False to retain current behavior or observed=True to adopt the future default and silence this warning.\n",
      "\n"
     ]
    }
   ],
   "source": [
    "df_cleaned = df_cleaned.copy()\n",
    "\n",
    "# compute VALUE_PER_SF if it been cleaned\n",
    "if 'VALUE_PER_SF' not in df_cleaned.columns:\n",
    "    df_cleaned['VALUE_PER_SF'] = df_cleaned['TOTAL_VALUE'] / df_cleaned['LIVING_AREA']\n",
    "\n",
    "# bin YR_BUILT into decades for cleaner x-axis\n",
    "df_cleaned['YR_BUILT_BIN'] = pd.cut(df_cleaned['YR_BUILT'], bins=range(1850, 2030, 10), labels=[f\"{y}-{y+9}\" for y in range(1850, 2020, 10)])\n",
    "\n",
    "# filter to top 5 ZIP codes by average VALUE_PER_SF\n",
    "top_5_zip = df_cleaned.groupby('ZIP_CODE')['VALUE_PER_SF'].mean().nlargest(5).index.tolist()\n",
    "df_top_5 = df_cleaned[df_cleaned['ZIP_CODE'].isin(top_5_zip)].dropna(subset=['YR_BUILT_BIN', 'VALUE_PER_SF'])\n",
    "\n",
    "# compute avg VALUE_PER_SF per ZIP code and year bin\n",
    "df_agg = df_top_5.groupby(['YR_BUILT_BIN', 'ZIP_CODE'])['VALUE_PER_SF'].mean().reset_index()\n",
    "\n",
    "# define ZIP code to neighborhood mapping\n",
    "zip_to_neighborhood = {\n",
    "    '02115': 'Back Bay/Fenway',   \n",
    "    '02114': 'Beacon Hill',       \n",
    "    '02109': 'North End',   \n",
    "    '02108': 'Downtown',  \n",
    "    '02210': 'Seaport',   \n",
    "    '02110': 'Financial District',\n",
    "    '02116': 'Back Bay',      \n",
    "    '02118': 'South End',    \n",
    "    '02215': 'Fenway/Kenmore',  \n",
    "    '02134': 'Allston'      \n",
    "}\n",
    "\n",
    "# add neighborhood names to the df\n",
    "df_agg['ZIP_CODE_WITH_NAME'] = df_agg['ZIP_CODE'].map(lambda x: f\"{x} - {zip_to_neighborhood[x]}\")\n",
    "\n",
    "# define selection for ZIP code filtering\n",
    "selection = alt.selection_point(fields=['ZIP_CODE_WITH_NAME'], bind='legend')"
   ]
  },
  {
   "cell_type": "code",
   "execution_count": 52,
   "id": "30a322c0-954a-4339-8411-98f681a409bf",
   "metadata": {},
   "outputs": [
    {
     "data": {
      "text/html": [
       "\n",
       "<style>\n",
       "  #altair-viz-48dfecc0010f461995dd1b2463b58b21.vega-embed {\n",
       "    width: 100%;\n",
       "    display: flex;\n",
       "  }\n",
       "\n",
       "  #altair-viz-48dfecc0010f461995dd1b2463b58b21.vega-embed details,\n",
       "  #altair-viz-48dfecc0010f461995dd1b2463b58b21.vega-embed details summary {\n",
       "    position: relative;\n",
       "  }\n",
       "</style>\n",
       "<div id=\"altair-viz-48dfecc0010f461995dd1b2463b58b21\"></div>\n",
       "<script type=\"text/javascript\">\n",
       "  var VEGA_DEBUG = (typeof VEGA_DEBUG == \"undefined\") ? {} : VEGA_DEBUG;\n",
       "  (function(spec, embedOpt){\n",
       "    let outputDiv = document.currentScript.previousElementSibling;\n",
       "    if (outputDiv.id !== \"altair-viz-48dfecc0010f461995dd1b2463b58b21\") {\n",
       "      outputDiv = document.getElementById(\"altair-viz-48dfecc0010f461995dd1b2463b58b21\");\n",
       "    }\n",
       "\n",
       "    const paths = {\n",
       "      \"vega\": \"https://cdn.jsdelivr.net/npm/vega@5?noext\",\n",
       "      \"vega-lib\": \"https://cdn.jsdelivr.net/npm/vega-lib?noext\",\n",
       "      \"vega-lite\": \"https://cdn.jsdelivr.net/npm/vega-lite@5.20.1?noext\",\n",
       "      \"vega-embed\": \"https://cdn.jsdelivr.net/npm/vega-embed@6?noext\",\n",
       "    };\n",
       "\n",
       "    function maybeLoadScript(lib, version) {\n",
       "      var key = `${lib.replace(\"-\", \"\")}_version`;\n",
       "      return (VEGA_DEBUG[key] == version) ?\n",
       "        Promise.resolve(paths[lib]) :\n",
       "        new Promise(function(resolve, reject) {\n",
       "          var s = document.createElement('script');\n",
       "          document.getElementsByTagName(\"head\")[0].appendChild(s);\n",
       "          s.async = true;\n",
       "          s.onload = () => {\n",
       "            VEGA_DEBUG[key] = version;\n",
       "            return resolve(paths[lib]);\n",
       "          };\n",
       "          s.onerror = () => reject(`Error loading script: ${paths[lib]}`);\n",
       "          s.src = paths[lib];\n",
       "        });\n",
       "    }\n",
       "\n",
       "    function showError(err) {\n",
       "      outputDiv.innerHTML = `<div class=\"error\" style=\"color:red;\">${err}</div>`;\n",
       "      throw err;\n",
       "    }\n",
       "\n",
       "    function displayChart(vegaEmbed) {\n",
       "      vegaEmbed(outputDiv, spec, embedOpt)\n",
       "        .catch(err => showError(`Javascript Error: ${err.message}<br>This usually means there's a typo in your chart specification. See the javascript console for the full traceback.`));\n",
       "    }\n",
       "\n",
       "    if(typeof define === \"function\" && define.amd) {\n",
       "      requirejs.config({paths});\n",
       "      let deps = [\"vega-embed\"];\n",
       "      require(deps, displayChart, err => showError(`Error loading script: ${err.message}`));\n",
       "    } else {\n",
       "      maybeLoadScript(\"vega\", \"5\")\n",
       "        .then(() => maybeLoadScript(\"vega-lite\", \"5.20.1\"))\n",
       "        .then(() => maybeLoadScript(\"vega-embed\", \"6\"))\n",
       "        .catch(showError)\n",
       "        .then(() => displayChart(vegaEmbed));\n",
       "    }\n",
       "  })({\"config\": {\"view\": {\"continuousWidth\": 300, \"continuousHeight\": 300}}, \"data\": {\"name\": \"data-31295f06663e0954250a7f3e5324bb88\"}, \"mark\": {\"type\": \"bar\"}, \"encoding\": {\"color\": {\"field\": \"ZIP_CODE_WITH_NAME\", \"scale\": {\"scheme\": \"category20\"}, \"title\": \"ZIP Code - Neighborhood\", \"type\": \"nominal\"}, \"opacity\": {\"condition\": {\"param\": \"param_19\", \"value\": 1}, \"value\": 0.2}, \"tooltip\": [{\"field\": \"YR_BUILT_BIN\", \"title\": \"Year Built Range\", \"type\": \"nominal\"}, {\"field\": \"ZIP_CODE_WITH_NAME\", \"title\": \"ZIP Code - Neighborhood\", \"type\": \"nominal\"}, {\"field\": \"VALUE_PER_SF\", \"format\": \".2f\", \"title\": \"Avg Value per Sq Ft ($)\", \"type\": \"quantitative\"}], \"x\": {\"axis\": {\"labelAngle\": -45}, \"field\": \"YR_BUILT_BIN\", \"title\": \"Year Built Range\", \"type\": \"nominal\"}, \"y\": {\"field\": \"VALUE_PER_SF\", \"stack\": \"zero\", \"title\": \"Average Value per Square Foot ($)\", \"type\": \"quantitative\"}}, \"height\": 400, \"params\": [{\"name\": \"param_19\", \"select\": {\"type\": \"point\", \"fields\": [\"ZIP_CODE_WITH_NAME\"]}, \"bind\": \"legend\"}, {\"name\": \"param_20\", \"select\": {\"type\": \"interval\", \"encodings\": [\"x\", \"y\"]}, \"bind\": \"scales\"}], \"title\": \"Property Age vs Average Value per Square Foot by ZIP Code (Stacked)\", \"width\": 600, \"$schema\": \"https://vega.github.io/schema/vega-lite/v5.20.1.json\", \"datasets\": {\"data-31295f06663e0954250a7f3e5324bb88\": [{\"YR_BUILT_BIN\": \"1850-1859\", \"ZIP_CODE\": \"02108\", \"VALUE_PER_SF\": 1141.5141468398488, \"ZIP_CODE_WITH_NAME\": \"02108 - Downtown\"}, {\"YR_BUILT_BIN\": \"1850-1859\", \"ZIP_CODE\": \"02110\", \"VALUE_PER_SF\": null, \"ZIP_CODE_WITH_NAME\": \"02110 - Financial District\"}, {\"YR_BUILT_BIN\": \"1850-1859\", \"ZIP_CODE\": \"02116\", \"VALUE_PER_SF\": 1013.288076803706, \"ZIP_CODE_WITH_NAME\": \"02116 - Back Bay\"}, {\"YR_BUILT_BIN\": \"1850-1859\", \"ZIP_CODE\": \"02118\", \"VALUE_PER_SF\": 925.2484007023616, \"ZIP_CODE_WITH_NAME\": \"02118 - South End\"}, {\"YR_BUILT_BIN\": \"1850-1859\", \"ZIP_CODE\": \"02210\", \"VALUE_PER_SF\": null, \"ZIP_CODE_WITH_NAME\": \"02210 - Seaport\"}, {\"YR_BUILT_BIN\": \"1860-1869\", \"ZIP_CODE\": \"02108\", \"VALUE_PER_SF\": 1052.3142181843527, \"ZIP_CODE_WITH_NAME\": \"02108 - Downtown\"}, {\"YR_BUILT_BIN\": \"1860-1869\", \"ZIP_CODE\": \"02110\", \"VALUE_PER_SF\": 956.8190152446235, \"ZIP_CODE_WITH_NAME\": \"02110 - Financial District\"}, {\"YR_BUILT_BIN\": \"1860-1869\", \"ZIP_CODE\": \"02116\", \"VALUE_PER_SF\": 1063.6156859084329, \"ZIP_CODE_WITH_NAME\": \"02116 - Back Bay\"}, {\"YR_BUILT_BIN\": \"1860-1869\", \"ZIP_CODE\": \"02118\", \"VALUE_PER_SF\": 966.2604820461239, \"ZIP_CODE_WITH_NAME\": \"02118 - South End\"}, {\"YR_BUILT_BIN\": \"1860-1869\", \"ZIP_CODE\": \"02210\", \"VALUE_PER_SF\": null, \"ZIP_CODE_WITH_NAME\": \"02210 - Seaport\"}, {\"YR_BUILT_BIN\": \"1870-1879\", \"ZIP_CODE\": \"02108\", \"VALUE_PER_SF\": 1137.4521128050483, \"ZIP_CODE_WITH_NAME\": \"02108 - Downtown\"}, {\"YR_BUILT_BIN\": \"1870-1879\", \"ZIP_CODE\": \"02110\", \"VALUE_PER_SF\": 927.1397444492565, \"ZIP_CODE_WITH_NAME\": \"02110 - Financial District\"}, {\"YR_BUILT_BIN\": \"1870-1879\", \"ZIP_CODE\": \"02116\", \"VALUE_PER_SF\": 1091.6769089419868, \"ZIP_CODE_WITH_NAME\": \"02116 - Back Bay\"}, {\"YR_BUILT_BIN\": \"1870-1879\", \"ZIP_CODE\": \"02118\", \"VALUE_PER_SF\": 969.6636335762795, \"ZIP_CODE_WITH_NAME\": \"02118 - South End\"}, {\"YR_BUILT_BIN\": \"1870-1879\", \"ZIP_CODE\": \"02210\", \"VALUE_PER_SF\": null, \"ZIP_CODE_WITH_NAME\": \"02210 - Seaport\"}, {\"YR_BUILT_BIN\": \"1880-1889\", \"ZIP_CODE\": \"02108\", \"VALUE_PER_SF\": 997.8743019195349, \"ZIP_CODE_WITH_NAME\": \"02108 - Downtown\"}, {\"YR_BUILT_BIN\": \"1880-1889\", \"ZIP_CODE\": \"02110\", \"VALUE_PER_SF\": 934.3373493975904, \"ZIP_CODE_WITH_NAME\": \"02110 - Financial District\"}, {\"YR_BUILT_BIN\": \"1880-1889\", \"ZIP_CODE\": \"02116\", \"VALUE_PER_SF\": 1057.937292408525, \"ZIP_CODE_WITH_NAME\": \"02116 - Back Bay\"}, {\"YR_BUILT_BIN\": \"1880-1889\", \"ZIP_CODE\": \"02118\", \"VALUE_PER_SF\": 922.4827425457387, \"ZIP_CODE_WITH_NAME\": \"02118 - South End\"}, {\"YR_BUILT_BIN\": \"1880-1889\", \"ZIP_CODE\": \"02210\", \"VALUE_PER_SF\": null, \"ZIP_CODE_WITH_NAME\": \"02210 - Seaport\"}, {\"YR_BUILT_BIN\": \"1890-1899\", \"ZIP_CODE\": \"02108\", \"VALUE_PER_SF\": 890.8674063188753, \"ZIP_CODE_WITH_NAME\": \"02108 - Downtown\"}, {\"YR_BUILT_BIN\": \"1890-1899\", \"ZIP_CODE\": \"02110\", \"VALUE_PER_SF\": 1329.424146567543, \"ZIP_CODE_WITH_NAME\": \"02110 - Financial District\"}, {\"YR_BUILT_BIN\": \"1890-1899\", \"ZIP_CODE\": \"02116\", \"VALUE_PER_SF\": 875.1709929105587, \"ZIP_CODE_WITH_NAME\": \"02116 - Back Bay\"}, {\"YR_BUILT_BIN\": \"1890-1899\", \"ZIP_CODE\": \"02118\", \"VALUE_PER_SF\": 890.7237910161388, \"ZIP_CODE_WITH_NAME\": \"02118 - South End\"}, {\"YR_BUILT_BIN\": \"1890-1899\", \"ZIP_CODE\": \"02210\", \"VALUE_PER_SF\": 985.745194245398, \"ZIP_CODE_WITH_NAME\": \"02210 - Seaport\"}, {\"YR_BUILT_BIN\": \"1900-1909\", \"ZIP_CODE\": \"02108\", \"VALUE_PER_SF\": 798.8042254460288, \"ZIP_CODE_WITH_NAME\": \"02108 - Downtown\"}, {\"YR_BUILT_BIN\": \"1900-1909\", \"ZIP_CODE\": \"02110\", \"VALUE_PER_SF\": 730.1701656507666, \"ZIP_CODE_WITH_NAME\": \"02110 - Financial District\"}, {\"YR_BUILT_BIN\": \"1900-1909\", \"ZIP_CODE\": \"02116\", \"VALUE_PER_SF\": 947.203483408235, \"ZIP_CODE_WITH_NAME\": \"02116 - Back Bay\"}, {\"YR_BUILT_BIN\": \"1900-1909\", \"ZIP_CODE\": \"02118\", \"VALUE_PER_SF\": 830.4603907083492, \"ZIP_CODE_WITH_NAME\": \"02118 - South End\"}, {\"YR_BUILT_BIN\": \"1900-1909\", \"ZIP_CODE\": \"02210\", \"VALUE_PER_SF\": 45.13622401201505, \"ZIP_CODE_WITH_NAME\": \"02210 - Seaport\"}, {\"YR_BUILT_BIN\": \"1910-1919\", \"ZIP_CODE\": \"02108\", \"VALUE_PER_SF\": 1020.3194161072481, \"ZIP_CODE_WITH_NAME\": \"02108 - Downtown\"}, {\"YR_BUILT_BIN\": \"1910-1919\", \"ZIP_CODE\": \"02110\", \"VALUE_PER_SF\": 557.4518236561082, \"ZIP_CODE_WITH_NAME\": \"02110 - Financial District\"}, {\"YR_BUILT_BIN\": \"1910-1919\", \"ZIP_CODE\": \"02116\", \"VALUE_PER_SF\": 771.1315282850337, \"ZIP_CODE_WITH_NAME\": \"02116 - Back Bay\"}, {\"YR_BUILT_BIN\": \"1910-1919\", \"ZIP_CODE\": \"02118\", \"VALUE_PER_SF\": 657.9460175711199, \"ZIP_CODE_WITH_NAME\": \"02118 - South End\"}, {\"YR_BUILT_BIN\": \"1910-1919\", \"ZIP_CODE\": \"02210\", \"VALUE_PER_SF\": 781.6535923304212, \"ZIP_CODE_WITH_NAME\": \"02210 - Seaport\"}, {\"YR_BUILT_BIN\": \"1920-1929\", \"ZIP_CODE\": \"02108\", \"VALUE_PER_SF\": 1006.8241893530245, \"ZIP_CODE_WITH_NAME\": \"02108 - Downtown\"}, {\"YR_BUILT_BIN\": \"1920-1929\", \"ZIP_CODE\": \"02110\", \"VALUE_PER_SF\": 18.254111774278545, \"ZIP_CODE_WITH_NAME\": \"02110 - Financial District\"}, {\"YR_BUILT_BIN\": \"1920-1929\", \"ZIP_CODE\": \"02116\", \"VALUE_PER_SF\": 1099.759842476114, \"ZIP_CODE_WITH_NAME\": \"02116 - Back Bay\"}, {\"YR_BUILT_BIN\": \"1920-1929\", \"ZIP_CODE\": \"02118\", \"VALUE_PER_SF\": 1345.9536939051695, \"ZIP_CODE_WITH_NAME\": \"02118 - South End\"}, {\"YR_BUILT_BIN\": \"1920-1929\", \"ZIP_CODE\": \"02210\", \"VALUE_PER_SF\": 153.98774258318798, \"ZIP_CODE_WITH_NAME\": \"02210 - Seaport\"}, {\"YR_BUILT_BIN\": \"1930-1939\", \"ZIP_CODE\": \"02108\", \"VALUE_PER_SF\": 1103.7588142017532, \"ZIP_CODE_WITH_NAME\": \"02108 - Downtown\"}, {\"YR_BUILT_BIN\": \"1930-1939\", \"ZIP_CODE\": \"02110\", \"VALUE_PER_SF\": 159.38645291485722, \"ZIP_CODE_WITH_NAME\": \"02110 - Financial District\"}, {\"YR_BUILT_BIN\": \"1930-1939\", \"ZIP_CODE\": \"02116\", \"VALUE_PER_SF\": 1007.6485101834045, \"ZIP_CODE_WITH_NAME\": \"02116 - Back Bay\"}, {\"YR_BUILT_BIN\": \"1930-1939\", \"ZIP_CODE\": \"02118\", \"VALUE_PER_SF\": 677.6192518988404, \"ZIP_CODE_WITH_NAME\": \"02118 - South End\"}, {\"YR_BUILT_BIN\": \"1930-1939\", \"ZIP_CODE\": \"02210\", \"VALUE_PER_SF\": 132.30808069099209, \"ZIP_CODE_WITH_NAME\": \"02210 - Seaport\"}, {\"YR_BUILT_BIN\": \"1940-1949\", \"ZIP_CODE\": \"02108\", \"VALUE_PER_SF\": 577.3964137951893, \"ZIP_CODE_WITH_NAME\": \"02108 - Downtown\"}, {\"YR_BUILT_BIN\": \"1940-1949\", \"ZIP_CODE\": \"02110\", \"VALUE_PER_SF\": 216.33952786125926, \"ZIP_CODE_WITH_NAME\": \"02110 - Financial District\"}, {\"YR_BUILT_BIN\": \"1940-1949\", \"ZIP_CODE\": \"02116\", \"VALUE_PER_SF\": 883.7858162363456, \"ZIP_CODE_WITH_NAME\": \"02116 - Back Bay\"}, {\"YR_BUILT_BIN\": \"1940-1949\", \"ZIP_CODE\": \"02118\", \"VALUE_PER_SF\": 623.7807296193317, \"ZIP_CODE_WITH_NAME\": \"02118 - South End\"}, {\"YR_BUILT_BIN\": \"1940-1949\", \"ZIP_CODE\": \"02210\", \"VALUE_PER_SF\": 201.21037389195774, \"ZIP_CODE_WITH_NAME\": \"02210 - Seaport\"}, {\"YR_BUILT_BIN\": \"1950-1959\", \"ZIP_CODE\": \"02108\", \"VALUE_PER_SF\": 475.7967425220152, \"ZIP_CODE_WITH_NAME\": \"02108 - Downtown\"}, {\"YR_BUILT_BIN\": \"1950-1959\", \"ZIP_CODE\": \"02110\", \"VALUE_PER_SF\": 88.64347868217054, \"ZIP_CODE_WITH_NAME\": \"02110 - Financial District\"}, {\"YR_BUILT_BIN\": \"1950-1959\", \"ZIP_CODE\": \"02116\", \"VALUE_PER_SF\": 1134.9320987550952, \"ZIP_CODE_WITH_NAME\": \"02116 - Back Bay\"}, {\"YR_BUILT_BIN\": \"1950-1959\", \"ZIP_CODE\": \"02118\", \"VALUE_PER_SF\": 403.10998205950364, \"ZIP_CODE_WITH_NAME\": \"02118 - South End\"}, {\"YR_BUILT_BIN\": \"1950-1959\", \"ZIP_CODE\": \"02210\", \"VALUE_PER_SF\": null, \"ZIP_CODE_WITH_NAME\": \"02210 - Seaport\"}, {\"YR_BUILT_BIN\": \"1960-1969\", \"ZIP_CODE\": \"02108\", \"VALUE_PER_SF\": 127.21066840640853, \"ZIP_CODE_WITH_NAME\": \"02108 - Downtown\"}, {\"YR_BUILT_BIN\": \"1960-1969\", \"ZIP_CODE\": \"02110\", \"VALUE_PER_SF\": 725.5765929604191, \"ZIP_CODE_WITH_NAME\": \"02110 - Financial District\"}, {\"YR_BUILT_BIN\": \"1960-1969\", \"ZIP_CODE\": \"02116\", \"VALUE_PER_SF\": 981.7546985344641, \"ZIP_CODE_WITH_NAME\": \"02116 - Back Bay\"}, {\"YR_BUILT_BIN\": \"1960-1969\", \"ZIP_CODE\": \"02118\", \"VALUE_PER_SF\": 332.74600371785164, \"ZIP_CODE_WITH_NAME\": \"02118 - South End\"}, {\"YR_BUILT_BIN\": \"1960-1969\", \"ZIP_CODE\": \"02210\", \"VALUE_PER_SF\": 33100.23526122636, \"ZIP_CODE_WITH_NAME\": \"02210 - Seaport\"}, {\"YR_BUILT_BIN\": \"1970-1979\", \"ZIP_CODE\": \"02108\", \"VALUE_PER_SF\": 208.15437635627578, \"ZIP_CODE_WITH_NAME\": \"02108 - Downtown\"}, {\"YR_BUILT_BIN\": \"1970-1979\", \"ZIP_CODE\": \"02110\", \"VALUE_PER_SF\": 817.5533598240577, \"ZIP_CODE_WITH_NAME\": \"02110 - Financial District\"}, {\"YR_BUILT_BIN\": \"1970-1979\", \"ZIP_CODE\": \"02116\", \"VALUE_PER_SF\": 698.6784727225283, \"ZIP_CODE_WITH_NAME\": \"02116 - Back Bay\"}, {\"YR_BUILT_BIN\": \"1970-1979\", \"ZIP_CODE\": \"02118\", \"VALUE_PER_SF\": 344.7051023803156, \"ZIP_CODE_WITH_NAME\": \"02118 - South End\"}, {\"YR_BUILT_BIN\": \"1970-1979\", \"ZIP_CODE\": \"02210\", \"VALUE_PER_SF\": 136.61650967163726, \"ZIP_CODE_WITH_NAME\": \"02210 - Seaport\"}, {\"YR_BUILT_BIN\": \"1980-1989\", \"ZIP_CODE\": \"02108\", \"VALUE_PER_SF\": 405.6512150650493, \"ZIP_CODE_WITH_NAME\": \"02108 - Downtown\"}, {\"YR_BUILT_BIN\": \"1980-1989\", \"ZIP_CODE\": \"02110\", \"VALUE_PER_SF\": 1158.370743283507, \"ZIP_CODE_WITH_NAME\": \"02110 - Financial District\"}, {\"YR_BUILT_BIN\": \"1980-1989\", \"ZIP_CODE\": \"02116\", \"VALUE_PER_SF\": 1213.455781367379, \"ZIP_CODE_WITH_NAME\": \"02116 - Back Bay\"}, {\"YR_BUILT_BIN\": \"1980-1989\", \"ZIP_CODE\": \"02118\", \"VALUE_PER_SF\": 665.1640890283097, \"ZIP_CODE_WITH_NAME\": \"02118 - South End\"}, {\"YR_BUILT_BIN\": \"1980-1989\", \"ZIP_CODE\": \"02210\", \"VALUE_PER_SF\": 396.95907617187567, \"ZIP_CODE_WITH_NAME\": \"02210 - Seaport\"}, {\"YR_BUILT_BIN\": \"1990-1999\", \"ZIP_CODE\": \"02108\", \"VALUE_PER_SF\": 785.5665520046691, \"ZIP_CODE_WITH_NAME\": \"02108 - Downtown\"}, {\"YR_BUILT_BIN\": \"1990-1999\", \"ZIP_CODE\": \"02110\", \"VALUE_PER_SF\": 515.6735878709344, \"ZIP_CODE_WITH_NAME\": \"02110 - Financial District\"}, {\"YR_BUILT_BIN\": \"1990-1999\", \"ZIP_CODE\": \"02116\", \"VALUE_PER_SF\": 1091.5344422836547, \"ZIP_CODE_WITH_NAME\": \"02116 - Back Bay\"}, {\"YR_BUILT_BIN\": \"1990-1999\", \"ZIP_CODE\": \"02118\", \"VALUE_PER_SF\": 944.1557493969015, \"ZIP_CODE_WITH_NAME\": \"02118 - South End\"}, {\"YR_BUILT_BIN\": \"1990-1999\", \"ZIP_CODE\": \"02210\", \"VALUE_PER_SF\": 220.03992773918208, \"ZIP_CODE_WITH_NAME\": \"02210 - Seaport\"}, {\"YR_BUILT_BIN\": \"2000-2009\", \"ZIP_CODE\": \"02108\", \"VALUE_PER_SF\": 1136.8270878127569, \"ZIP_CODE_WITH_NAME\": \"02108 - Downtown\"}, {\"YR_BUILT_BIN\": \"2000-2009\", \"ZIP_CODE\": \"02110\", \"VALUE_PER_SF\": 879.3404587177087, \"ZIP_CODE_WITH_NAME\": \"02110 - Financial District\"}, {\"YR_BUILT_BIN\": \"2000-2009\", \"ZIP_CODE\": \"02116\", \"VALUE_PER_SF\": 1262.835723462244, \"ZIP_CODE_WITH_NAME\": \"02116 - Back Bay\"}, {\"YR_BUILT_BIN\": \"2000-2009\", \"ZIP_CODE\": \"02118\", \"VALUE_PER_SF\": 822.9807855525265, \"ZIP_CODE_WITH_NAME\": \"02118 - South End\"}, {\"YR_BUILT_BIN\": \"2000-2009\", \"ZIP_CODE\": \"02210\", \"VALUE_PER_SF\": 970.8656893854788, \"ZIP_CODE_WITH_NAME\": \"02210 - Seaport\"}, {\"YR_BUILT_BIN\": \"2010-2019\", \"ZIP_CODE\": \"02108\", \"VALUE_PER_SF\": 948.1906824394663, \"ZIP_CODE_WITH_NAME\": \"02108 - Downtown\"}, {\"YR_BUILT_BIN\": \"2010-2019\", \"ZIP_CODE\": \"02110\", \"VALUE_PER_SF\": 1314.3596831353832, \"ZIP_CODE_WITH_NAME\": \"02110 - Financial District\"}, {\"YR_BUILT_BIN\": \"2010-2019\", \"ZIP_CODE\": \"02116\", \"VALUE_PER_SF\": 1158.8745445817005, \"ZIP_CODE_WITH_NAME\": \"02116 - Back Bay\"}, {\"YR_BUILT_BIN\": \"2010-2019\", \"ZIP_CODE\": \"02118\", \"VALUE_PER_SF\": 1036.471454820522, \"ZIP_CODE_WITH_NAME\": \"02118 - South End\"}, {\"YR_BUILT_BIN\": \"2010-2019\", \"ZIP_CODE\": \"02210\", \"VALUE_PER_SF\": 1385.3614966705409, \"ZIP_CODE_WITH_NAME\": \"02210 - Seaport\"}]}}, {\"mode\": \"vega-lite\"});\n",
       "</script>"
      ],
      "text/plain": [
       "alt.Chart(...)"
      ]
     },
     "execution_count": 52,
     "metadata": {},
     "output_type": "execute_result"
    }
   ],
   "source": [
    "# create stacked bar chart\n",
    "chart = alt.Chart(df_agg).mark_bar().encode(\n",
    "    x=alt.X('YR_BUILT_BIN:N', title='Year Built Range', axis=alt.Axis(labelAngle=-45)),\n",
    "    y=alt.Y('VALUE_PER_SF:Q', title='Average Value per Square Foot ($)', stack='zero'),\n",
    "    color=alt.Color('ZIP_CODE_WITH_NAME:N', title='ZIP Code - Neighborhood', scale=alt.Scale(scheme='category20')),\n",
    "    opacity=alt.condition(selection, alt.value(1), alt.value(0.2)),\n",
    "    tooltip=[\n",
    "        alt.Tooltip('YR_BUILT_BIN:N', title='Year Built Range'),\n",
    "        alt.Tooltip('ZIP_CODE_WITH_NAME:N', title='ZIP Code - Neighborhood'),\n",
    "        alt.Tooltip('VALUE_PER_SF:Q', title='Avg Value per Sq Ft ($)', format='.2f')\n",
    "    ]\n",
    ").properties(\n",
    "    width=600,\n",
    "    height=400,\n",
    "    title='Property Age vs Average Value per Square Foot by ZIP Code (Stacked)'\n",
    ").add_params(\n",
    "    selection\n",
    ").interactive()\n",
    "\n",
    "# save the chart\n",
    "chart.save('stacked_property_age_vs_value_per_sf.html')\n",
    "chart"
   ]
  },
  {
   "cell_type": "markdown",
   "id": "8c5c10b8-5f8f-4be1-b923-b049820e8723",
   "metadata": {},
   "source": [
    "## Visualization - 3.Housing Characteristics Dashboard"
   ]
  },
  {
   "cell_type": "code",
   "execution_count": 53,
   "id": "d36ad1ea-6410-4b44-b9e5-ca91752042d3",
   "metadata": {},
   "outputs": [],
   "source": [
    "# convert dataframe to list of dictionaries for D3\n",
    "housing_data = df_cleaned.to_dict(orient='records')\n",
    "\n",
    "# save the data as JSON \n",
    "with open('housing_data.json', 'w') as f:\n",
    "    json.dump(housing_data, f)\n",
    "\n",
    "# read the dashboard HTML \n",
    "with open('housing_impact_dashboard_with_data.html', 'r') as f:\n",
    "    dashboard_html = f.read()"
   ]
  },
  {
   "cell_type": "code",
   "execution_count": 54,
   "id": "ca99eaf2-ab91-4998-897f-2cc550860261",
   "metadata": {},
   "outputs": [],
   "source": [
    "# find the loadData function\n",
    "dashboard_html = dashboard_html.replace(\n",
    "    \"const sampleData = [];\",\n",
    "    f\"const sampleData = {json.dumps(housing_data[:10000])}; // Using first 10000 records for better representation\"\n",
    ")\n",
    "\n",
    "# save the HTML\n",
    "with open('housing_impact_dashboard_with_data.html', 'w') as f:\n",
    "    f.write(dashboard_html)"
   ]
  },
  {
   "cell_type": "code",
   "execution_count": 55,
   "id": "d8047a5a-3de0-4ed0-a8bb-ef317c8179f7",
   "metadata": {},
   "outputs": [
    {
     "data": {
      "text/html": [
       "\n",
       "<div style=\"width:100%; height:600px;\">\n",
       "    <iframe src=\"housing_impact_dashboard_with_data.html\" width=\"100%\" height=\"100%\" frameborder=\"0\"></iframe>\n",
       "</div>\n"
      ],
      "text/plain": [
       "<IPython.core.display.HTML object>"
      ]
     },
     "metadata": {},
     "output_type": "display_data"
    },
    {
     "data": {
      "text/html": [
       "<a href='housing_impact_dashboard_with_data.html' target='_blank'>housing_impact_dashboard_with_data.html</a><br>"
      ],
      "text/plain": [
       "/Users/hydec5even/Desktop/DS4200/4200 Proejct/My Vis/housing_impact_dashboard_with_data.html"
      ]
     },
     "execution_count": 55,
     "metadata": {},
     "output_type": "execute_result"
    }
   ],
   "source": [
    "# display the dashboard\n",
    "display(HTML(f\"\"\"\n",
    "<div style=\"width:100%; height:600px;\">\n",
    "    <iframe src=\"housing_impact_dashboard_with_data.html\" width=\"100%\" height=\"100%\" frameborder=\"0\"></iframe>\n",
    "</div>\n",
    "\"\"\"))\n",
    "\n",
    "# create a link to\n",
    "from IPython.display import FileLink\n",
    "\n",
    "FileLink('housing_impact_dashboard_with_data.html')"
   ]
  },
  {
   "cell_type": "markdown",
   "id": "799c6a76-64bc-4f3f-b41a-0d3edaaa8fdc",
   "metadata": {},
   "source": [
    "## Visualization 4. Amenities and Condition Price Premium Analysis Heatmap"
   ]
  },
  {
   "cell_type": "code",
   "execution_count": 56,
   "id": "99d7b3f2-b8ee-4df6-9256-b110333a72fa",
   "metadata": {},
   "outputs": [
    {
     "name": "stdout",
     "output_type": "stream",
     "text": [
      "Unique OVERALL_COND values: ['g - good' 'a - average' 'unknown' 'f - fair' 'vg - very good'\n",
      " 'e - excellent' 'ex - excellent' 'vp - very poor' 'p - poor'\n",
      " 'us - unsound']\n",
      "Unique KITCHEN_STYLE1 values: ['s - semi-modern' 'm - modern' 'unknown' 'n - no remodeling' 'l - luxury']\n",
      "Unique BTHRM_STYLE1 values: ['s - semi-modern' 'm - modern' 'unknown' 'l - luxury' 'n - no remodeling']\n",
      "Unique Y_VAR values in df_agg: ['l - luxury' 'm - modern' 'n - no remodeling' 's - semi-modern']\n"
     ]
    }
   ],
   "source": [
    "import altair as alt\n",
    "import pandas as pd\n",
    "\n",
    "# Define ZIP code to neighborhood mapping\n",
    "zip_to_neighborhood = {\n",
    "    '02115': 'Back Bay/Fenway',\n",
    "    '02114': 'Beacon Hill',\n",
    "    '02109': 'North End',\n",
    "    '02108': 'Downtown',\n",
    "    '02210': 'Seaport',\n",
    "    '02110': 'Financial District',\n",
    "    '02116': 'Back Bay',\n",
    "    '02118': 'South End',\n",
    "    '02215': 'Fenway/Kenmore',\n",
    "    '02134': 'Allston'\n",
    "}\n",
    "\n",
    "# Filter to only the specified ZIP codes\n",
    "df_filtered = df_cleaned[df_cleaned['ZIP_CODE'].isin(zip_to_neighborhood.keys())].dropna(subset=['OVERALL_COND', 'KITCHEN_STYLE1', 'BTHRM_STYLE1', 'TOTAL_VALUE'])\n",
    "\n",
    "# Map ZIP codes to neighborhoods\n",
    "df_filtered['NEIGHBORHOOD'] = df_filtered['ZIP_CODE'].map(zip_to_neighborhood)\n",
    "\n",
    "# Explicitly ensure OVERALL_COND, KITCHEN_STYLE1, and BTHRM_STYLE1 retain full names\n",
    "# No stripping or modification for these columns\n",
    "print(\"Unique OVERALL_COND values:\", df_filtered['OVERALL_COND'].unique())\n",
    "print(\"Unique KITCHEN_STYLE1 values:\", df_filtered['KITCHEN_STYLE1'].unique())\n",
    "print(\"Unique BTHRM_STYLE1 values:\", df_filtered['BTHRM_STYLE1'].unique())\n",
    "\n",
    "# Clean only unused columns (AC_TYPE, HEAT_TYPE) if needed\n",
    "for col in ['AC_TYPE', 'HEAT_TYPE']:\n",
    "    df_filtered[col] = df_filtered[col].apply(lambda x: x.split(' - ')[0] if isinstance(x, str) and ' - ' in x else x)\n",
    "\n",
    "# Convert FIREPLACES to numeric then categorical (e.g., '0', '1', '2+')\n",
    "df_filtered['FIREPLACES'] = pd.to_numeric(df_filtered['FIREPLACES'], errors='coerce')\n",
    "df_filtered['FIREPLACES'] = df_filtered['FIREPLACES'].apply(lambda x: '2+' if pd.notna(x) and x >= 2 else str(int(x)) if pd.notna(x) else 'Unknown')\n",
    "# Filter out rows where KITCHEN_STYLE1 or BTHRM_STYLE1 is \"unknown\"\n",
    "df_filtered = df_filtered[(df_filtered['KITCHEN_STYLE1'] != 'unknown') & (df_filtered['BTHRM_STYLE1'] != 'unknown')]\n",
    "\n",
    "# Prepare data for both KITCHEN_STYLE1 and BTHRM_STYLE1 with full names\n",
    "df_agg_kitchen = df_filtered.groupby(['NEIGHBORHOOD', 'OVERALL_COND', 'KITCHEN_STYLE1'])['TOTAL_VALUE'].mean().reset_index()\n",
    "df_agg_bathroom = df_filtered.groupby(['NEIGHBORHOOD', 'OVERALL_COND', 'BTHRM_STYLE1'])['TOTAL_VALUE'].mean().reset_index()\n",
    "\n",
    "# Rename columns to a common name for Y-axis switching\n",
    "df_agg_kitchen = df_agg_kitchen.rename(columns={'KITCHEN_STYLE1': 'Y_VAR'})\n",
    "df_agg_bathroom = df_agg_bathroom.rename(columns={'BTHRM_STYLE1': 'Y_VAR'})\n",
    "df_agg_kitchen['Y_VAR_TYPE'] = 'Kitchen Style'\n",
    "df_agg_bathroom['Y_VAR_TYPE'] = 'Bathroom Style'\n",
    "\n",
    "# Combine the datasets\n",
    "df_agg = pd.concat([df_agg_kitchen, df_agg_bathroom], ignore_index=True)\n",
    "\n",
    "# Verify full names in aggregated data\n",
    "print(\"Unique Y_VAR values in df_agg:\", df_agg['Y_VAR'].unique())\n",
    "\n",
    "# Define dropdown for OVERALL_COND filter with full names\n",
    "condition_options = df_agg['OVERALL_COND'].unique().tolist()\n",
    "condition_labels = [cond for cond in condition_options]  \n",
    "condition_filter = alt.binding_select(\n",
    "    options=condition_options,\n",
    "    labels=condition_labels,\n",
    "    name='Overall Condition: '\n",
    ")\n",
    "condition_selection = alt.selection_point(fields=['OVERALL_COND'], bind=condition_filter)\n",
    "\n",
    "# Define dropdown for Y-axis variable (KITCHEN_STYLE1 or BTHRM_STYLE1)\n",
    "y_var_options = ['Kitchen Style', 'Bathroom Style']\n",
    "y_var_filter = alt.binding_select(\n",
    "    options=y_var_options,\n",
    "    name='Style Category: '\n",
    ")\n",
    "y_var_selection = alt.selection_point(fields=['Y_VAR_TYPE'], bind=y_var_filter)"
   ]
  },
  {
   "cell_type": "code",
   "execution_count": 57,
   "id": "a7ab78c0",
   "metadata": {},
   "outputs": [
    {
     "data": {
      "text/html": [
       "\n",
       "<style>\n",
       "  #altair-viz-52ecf012da624f9c85e50245448333a5.vega-embed {\n",
       "    width: 100%;\n",
       "    display: flex;\n",
       "  }\n",
       "\n",
       "  #altair-viz-52ecf012da624f9c85e50245448333a5.vega-embed details,\n",
       "  #altair-viz-52ecf012da624f9c85e50245448333a5.vega-embed details summary {\n",
       "    position: relative;\n",
       "  }\n",
       "</style>\n",
       "<div id=\"altair-viz-52ecf012da624f9c85e50245448333a5\"></div>\n",
       "<script type=\"text/javascript\">\n",
       "  var VEGA_DEBUG = (typeof VEGA_DEBUG == \"undefined\") ? {} : VEGA_DEBUG;\n",
       "  (function(spec, embedOpt){\n",
       "    let outputDiv = document.currentScript.previousElementSibling;\n",
       "    if (outputDiv.id !== \"altair-viz-52ecf012da624f9c85e50245448333a5\") {\n",
       "      outputDiv = document.getElementById(\"altair-viz-52ecf012da624f9c85e50245448333a5\");\n",
       "    }\n",
       "\n",
       "    const paths = {\n",
       "      \"vega\": \"https://cdn.jsdelivr.net/npm/vega@5?noext\",\n",
       "      \"vega-lib\": \"https://cdn.jsdelivr.net/npm/vega-lib?noext\",\n",
       "      \"vega-lite\": \"https://cdn.jsdelivr.net/npm/vega-lite@5.20.1?noext\",\n",
       "      \"vega-embed\": \"https://cdn.jsdelivr.net/npm/vega-embed@6?noext\",\n",
       "    };\n",
       "\n",
       "    function maybeLoadScript(lib, version) {\n",
       "      var key = `${lib.replace(\"-\", \"\")}_version`;\n",
       "      return (VEGA_DEBUG[key] == version) ?\n",
       "        Promise.resolve(paths[lib]) :\n",
       "        new Promise(function(resolve, reject) {\n",
       "          var s = document.createElement('script');\n",
       "          document.getElementsByTagName(\"head\")[0].appendChild(s);\n",
       "          s.async = true;\n",
       "          s.onload = () => {\n",
       "            VEGA_DEBUG[key] = version;\n",
       "            return resolve(paths[lib]);\n",
       "          };\n",
       "          s.onerror = () => reject(`Error loading script: ${paths[lib]}`);\n",
       "          s.src = paths[lib];\n",
       "        });\n",
       "    }\n",
       "\n",
       "    function showError(err) {\n",
       "      outputDiv.innerHTML = `<div class=\"error\" style=\"color:red;\">${err}</div>`;\n",
       "      throw err;\n",
       "    }\n",
       "\n",
       "    function displayChart(vegaEmbed) {\n",
       "      vegaEmbed(outputDiv, spec, embedOpt)\n",
       "        .catch(err => showError(`Javascript Error: ${err.message}<br>This usually means there's a typo in your chart specification. See the javascript console for the full traceback.`));\n",
       "    }\n",
       "\n",
       "    if(typeof define === \"function\" && define.amd) {\n",
       "      requirejs.config({paths});\n",
       "      let deps = [\"vega-embed\"];\n",
       "      require(deps, displayChart, err => showError(`Error loading script: ${err.message}`));\n",
       "    } else {\n",
       "      maybeLoadScript(\"vega\", \"5\")\n",
       "        .then(() => maybeLoadScript(\"vega-lite\", \"5.20.1\"))\n",
       "        .then(() => maybeLoadScript(\"vega-embed\", \"6\"))\n",
       "        .catch(showError)\n",
       "        .then(() => displayChart(vegaEmbed));\n",
       "    }\n",
       "  })({\"config\": {\"view\": {\"continuousWidth\": 300, \"continuousHeight\": 300}}, \"data\": {\"name\": \"data-c35fdd077cb74c576ec8f81b3f5b487d\"}, \"mark\": {\"type\": \"rect\"}, \"encoding\": {\"color\": {\"field\": \"TOTAL_VALUE\", \"legend\": {\"format\": \",.0f\"}, \"scale\": {\"scheme\": \"viridis\"}, \"title\": \"Avg Total Value ($)\", \"type\": \"quantitative\"}, \"tooltip\": [{\"field\": \"NEIGHBORHOOD\", \"title\": \"Neighborhood\", \"type\": \"nominal\"}, {\"field\": \"OVERALL_COND\", \"title\": \"Overall Condition\", \"type\": \"nominal\"}, {\"field\": \"Y_VAR\", \"title\": \"Amenity Style\", \"type\": \"nominal\"}, {\"field\": \"Y_VAR_TYPE\", \"title\": \"Amenity Type\", \"type\": \"nominal\"}, {\"field\": \"TOTAL_VALUE\", \"format\": \",.0f\", \"title\": \"Avg Total Value ($)\", \"type\": \"quantitative\"}], \"x\": {\"axis\": {\"labelAngle\": 45}, \"field\": \"NEIGHBORHOOD\", \"sort\": \"-color\", \"title\": \"Neighborhood\", \"type\": \"nominal\"}, \"y\": {\"field\": \"Y_VAR\", \"title\": \"Amenity Style\", \"type\": \"nominal\"}}, \"height\": 300, \"params\": [{\"name\": \"param_21\", \"select\": {\"type\": \"point\", \"fields\": [\"OVERALL_COND\"]}, \"bind\": {\"input\": \"select\", \"options\": [\"a - average\", \"e - excellent\", \"f - fair\", \"g - good\", \"p - poor\", \"unknown\", \"ex - excellent\", \"vg - very good\"], \"labels\": [\"a - average\", \"e - excellent\", \"f - fair\", \"g - good\", \"p - poor\", \"unknown\", \"ex - excellent\", \"vg - very good\"], \"name\": \"Overall Condition: \"}}, {\"name\": \"param_22\", \"select\": {\"type\": \"point\", \"fields\": [\"Y_VAR_TYPE\"]}, \"bind\": {\"input\": \"select\", \"options\": [\"Kitchen Style\", \"Bathroom Style\"], \"name\": \"Style Category: \"}}, {\"name\": \"param_23\", \"select\": {\"type\": \"interval\", \"encodings\": [\"x\", \"y\"]}, \"bind\": \"scales\"}], \"title\": \"Amenities and Condition Price Premium by Neighborhood\", \"transform\": [{\"filter\": {\"and\": [{\"param\": \"param_21\"}, {\"param\": \"param_22\"}]}}], \"width\": 400, \"$schema\": \"https://vega.github.io/schema/vega-lite/v5.20.1.json\", \"datasets\": {\"data-c35fdd077cb74c576ec8f81b3f5b487d\": [{\"NEIGHBORHOOD\": \"Allston\", \"OVERALL_COND\": \"a - average\", \"Y_VAR\": \"l - luxury\", \"TOTAL_VALUE\": 820075.0, \"Y_VAR_TYPE\": \"Kitchen Style\"}, {\"NEIGHBORHOOD\": \"Allston\", \"OVERALL_COND\": \"a - average\", \"Y_VAR\": \"m - modern\", \"TOTAL_VALUE\": 689329.2045454546, \"Y_VAR_TYPE\": \"Kitchen Style\"}, {\"NEIGHBORHOOD\": \"Allston\", \"OVERALL_COND\": \"a - average\", \"Y_VAR\": \"n - no remodeling\", \"TOTAL_VALUE\": 736463.3744855967, \"Y_VAR_TYPE\": \"Kitchen Style\"}, {\"NEIGHBORHOOD\": \"Allston\", \"OVERALL_COND\": \"a - average\", \"Y_VAR\": \"s - semi-modern\", \"TOTAL_VALUE\": 658241.0475681453, \"Y_VAR_TYPE\": \"Kitchen Style\"}, {\"NEIGHBORHOOD\": \"Allston\", \"OVERALL_COND\": \"e - excellent\", \"Y_VAR\": \"l - luxury\", \"TOTAL_VALUE\": 1164566.6666666667, \"Y_VAR_TYPE\": \"Kitchen Style\"}, {\"NEIGHBORHOOD\": \"Allston\", \"OVERALL_COND\": \"f - fair\", \"Y_VAR\": \"n - no remodeling\", \"TOTAL_VALUE\": 829414.2857142857, \"Y_VAR_TYPE\": \"Kitchen Style\"}, {\"NEIGHBORHOOD\": \"Allston\", \"OVERALL_COND\": \"f - fair\", \"Y_VAR\": \"s - semi-modern\", \"TOTAL_VALUE\": 969564.2857142857, \"Y_VAR_TYPE\": \"Kitchen Style\"}, {\"NEIGHBORHOOD\": \"Allston\", \"OVERALL_COND\": \"g - good\", \"Y_VAR\": \"l - luxury\", \"TOTAL_VALUE\": 680150.0, \"Y_VAR_TYPE\": \"Kitchen Style\"}, {\"NEIGHBORHOOD\": \"Allston\", \"OVERALL_COND\": \"g - good\", \"Y_VAR\": \"m - modern\", \"TOTAL_VALUE\": 996842.0454545454, \"Y_VAR_TYPE\": \"Kitchen Style\"}, {\"NEIGHBORHOOD\": \"Allston\", \"OVERALL_COND\": \"g - good\", \"Y_VAR\": \"n - no remodeling\", \"TOTAL_VALUE\": 1143900.0, \"Y_VAR_TYPE\": \"Kitchen Style\"}, {\"NEIGHBORHOOD\": \"Allston\", \"OVERALL_COND\": \"g - good\", \"Y_VAR\": \"s - semi-modern\", \"TOTAL_VALUE\": 1068478.2608695652, \"Y_VAR_TYPE\": \"Kitchen Style\"}, {\"NEIGHBORHOOD\": \"Allston\", \"OVERALL_COND\": \"p - poor\", \"Y_VAR\": \"s - semi-modern\", \"TOTAL_VALUE\": 529900.0, \"Y_VAR_TYPE\": \"Kitchen Style\"}, {\"NEIGHBORHOOD\": \"Allston\", \"OVERALL_COND\": \"unknown\", \"Y_VAR\": \"m - modern\", \"TOTAL_VALUE\": 593721.7391304348, \"Y_VAR_TYPE\": \"Kitchen Style\"}, {\"NEIGHBORHOOD\": \"Allston\", \"OVERALL_COND\": \"unknown\", \"Y_VAR\": \"n - no remodeling\", \"TOTAL_VALUE\": 356800.0, \"Y_VAR_TYPE\": \"Kitchen Style\"}, {\"NEIGHBORHOOD\": \"Allston\", \"OVERALL_COND\": \"unknown\", \"Y_VAR\": \"s - semi-modern\", \"TOTAL_VALUE\": 490987.5, \"Y_VAR_TYPE\": \"Kitchen Style\"}, {\"NEIGHBORHOOD\": \"Back Bay\", \"OVERALL_COND\": \"a - average\", \"Y_VAR\": \"l - luxury\", \"TOTAL_VALUE\": 2122783.4691501744, \"Y_VAR_TYPE\": \"Kitchen Style\"}, {\"NEIGHBORHOOD\": \"Back Bay\", \"OVERALL_COND\": \"a - average\", \"Y_VAR\": \"m - modern\", \"TOTAL_VALUE\": 1188244.2316602317, \"Y_VAR_TYPE\": \"Kitchen Style\"}, {\"NEIGHBORHOOD\": \"Back Bay\", \"OVERALL_COND\": \"a - average\", \"Y_VAR\": \"n - no remodeling\", \"TOTAL_VALUE\": 1127949.152542373, \"Y_VAR_TYPE\": \"Kitchen Style\"}, {\"NEIGHBORHOOD\": \"Back Bay\", \"OVERALL_COND\": \"a - average\", \"Y_VAR\": \"s - semi-modern\", \"TOTAL_VALUE\": 922295.3086419753, \"Y_VAR_TYPE\": \"Kitchen Style\"}, {\"NEIGHBORHOOD\": \"Back Bay\", \"OVERALL_COND\": \"e - excellent\", \"Y_VAR\": \"l - luxury\", \"TOTAL_VALUE\": 2710582.781456954, \"Y_VAR_TYPE\": \"Kitchen Style\"}, {\"NEIGHBORHOOD\": \"Back Bay\", \"OVERALL_COND\": \"e - excellent\", \"Y_VAR\": \"m - modern\", \"TOTAL_VALUE\": 2221706.6666666665, \"Y_VAR_TYPE\": \"Kitchen Style\"}, {\"NEIGHBORHOOD\": \"Back Bay\", \"OVERALL_COND\": \"e - excellent\", \"Y_VAR\": \"s - semi-modern\", \"TOTAL_VALUE\": 2759900.0, \"Y_VAR_TYPE\": \"Kitchen Style\"}, {\"NEIGHBORHOOD\": \"Back Bay\", \"OVERALL_COND\": \"ex - excellent\", \"Y_VAR\": \"l - luxury\", \"TOTAL_VALUE\": 2632660.2564102565, \"Y_VAR_TYPE\": \"Kitchen Style\"}, {\"NEIGHBORHOOD\": \"Back Bay\", \"OVERALL_COND\": \"ex - excellent\", \"Y_VAR\": \"m - modern\", \"TOTAL_VALUE\": 1811264.2857142857, \"Y_VAR_TYPE\": \"Kitchen Style\"}, {\"NEIGHBORHOOD\": \"Back Bay\", \"OVERALL_COND\": \"ex - excellent\", \"Y_VAR\": \"s - semi-modern\", \"TOTAL_VALUE\": 565450.0, \"Y_VAR_TYPE\": \"Kitchen Style\"}, {\"NEIGHBORHOOD\": \"Back Bay\", \"OVERALL_COND\": \"f - fair\", \"Y_VAR\": \"n - no remodeling\", \"TOTAL_VALUE\": 2003683.3333333333, \"Y_VAR_TYPE\": \"Kitchen Style\"}, {\"NEIGHBORHOOD\": \"Back Bay\", \"OVERALL_COND\": \"f - fair\", \"Y_VAR\": \"s - semi-modern\", \"TOTAL_VALUE\": 2117500.0, \"Y_VAR_TYPE\": \"Kitchen Style\"}, {\"NEIGHBORHOOD\": \"Back Bay\", \"OVERALL_COND\": \"g - good\", \"Y_VAR\": \"l - luxury\", \"TOTAL_VALUE\": 2379789.908256881, \"Y_VAR_TYPE\": \"Kitchen Style\"}, {\"NEIGHBORHOOD\": \"Back Bay\", \"OVERALL_COND\": \"g - good\", \"Y_VAR\": \"m - modern\", \"TOTAL_VALUE\": 1366529.7590361445, \"Y_VAR_TYPE\": \"Kitchen Style\"}, {\"NEIGHBORHOOD\": \"Back Bay\", \"OVERALL_COND\": \"g - good\", \"Y_VAR\": \"n - no remodeling\", \"TOTAL_VALUE\": 1269500.0, \"Y_VAR_TYPE\": \"Kitchen Style\"}, {\"NEIGHBORHOOD\": \"Back Bay\", \"OVERALL_COND\": \"g - good\", \"Y_VAR\": \"s - semi-modern\", \"TOTAL_VALUE\": 1414055.3097345133, \"Y_VAR_TYPE\": \"Kitchen Style\"}, {\"NEIGHBORHOOD\": \"Back Bay\", \"OVERALL_COND\": \"p - poor\", \"Y_VAR\": \"n - no remodeling\", \"TOTAL_VALUE\": 1634233.3333333333, \"Y_VAR_TYPE\": \"Kitchen Style\"}, {\"NEIGHBORHOOD\": \"Back Bay\", \"OVERALL_COND\": \"unknown\", \"Y_VAR\": \"l - luxury\", \"TOTAL_VALUE\": 2065500.0, \"Y_VAR_TYPE\": \"Kitchen Style\"}, {\"NEIGHBORHOOD\": \"Back Bay\", \"OVERALL_COND\": \"unknown\", \"Y_VAR\": \"m - modern\", \"TOTAL_VALUE\": 1017166.2162162162, \"Y_VAR_TYPE\": \"Kitchen Style\"}, {\"NEIGHBORHOOD\": \"Back Bay\", \"OVERALL_COND\": \"unknown\", \"Y_VAR\": \"n - no remodeling\", \"TOTAL_VALUE\": 840700.0, \"Y_VAR_TYPE\": \"Kitchen Style\"}, {\"NEIGHBORHOOD\": \"Back Bay\", \"OVERALL_COND\": \"unknown\", \"Y_VAR\": \"s - semi-modern\", \"TOTAL_VALUE\": 727435.0, \"Y_VAR_TYPE\": \"Kitchen Style\"}, {\"NEIGHBORHOOD\": \"Back Bay\", \"OVERALL_COND\": \"vg - very good\", \"Y_VAR\": \"l - luxury\", \"TOTAL_VALUE\": 2461504.761904762, \"Y_VAR_TYPE\": \"Kitchen Style\"}, {\"NEIGHBORHOOD\": \"Back Bay\", \"OVERALL_COND\": \"vg - very good\", \"Y_VAR\": \"m - modern\", \"TOTAL_VALUE\": 2131895.0354609927, \"Y_VAR_TYPE\": \"Kitchen Style\"}, {\"NEIGHBORHOOD\": \"Back Bay\", \"OVERALL_COND\": \"vg - very good\", \"Y_VAR\": \"n - no remodeling\", \"TOTAL_VALUE\": 2448600.0, \"Y_VAR_TYPE\": \"Kitchen Style\"}, {\"NEIGHBORHOOD\": \"Back Bay\", \"OVERALL_COND\": \"vg - very good\", \"Y_VAR\": \"s - semi-modern\", \"TOTAL_VALUE\": 1291350.0, \"Y_VAR_TYPE\": \"Kitchen Style\"}, {\"NEIGHBORHOOD\": \"Back Bay/Fenway\", \"OVERALL_COND\": \"a - average\", \"Y_VAR\": \"l - luxury\", \"TOTAL_VALUE\": 1889674.6268656717, \"Y_VAR_TYPE\": \"Kitchen Style\"}, {\"NEIGHBORHOOD\": \"Back Bay/Fenway\", \"OVERALL_COND\": \"a - average\", \"Y_VAR\": \"m - modern\", \"TOTAL_VALUE\": 854220.6738131699, \"Y_VAR_TYPE\": \"Kitchen Style\"}, {\"NEIGHBORHOOD\": \"Back Bay/Fenway\", \"OVERALL_COND\": \"a - average\", \"Y_VAR\": \"n - no remodeling\", \"TOTAL_VALUE\": 762391.7808219178, \"Y_VAR_TYPE\": \"Kitchen Style\"}, {\"NEIGHBORHOOD\": \"Back Bay/Fenway\", \"OVERALL_COND\": \"a - average\", \"Y_VAR\": \"s - semi-modern\", \"TOTAL_VALUE\": 688617.7725118484, \"Y_VAR_TYPE\": \"Kitchen Style\"}, {\"NEIGHBORHOOD\": \"Back Bay/Fenway\", \"OVERALL_COND\": \"e - excellent\", \"Y_VAR\": \"l - luxury\", \"TOTAL_VALUE\": 2550922.8723404254, \"Y_VAR_TYPE\": \"Kitchen Style\"}, {\"NEIGHBORHOOD\": \"Back Bay/Fenway\", \"OVERALL_COND\": \"e - excellent\", \"Y_VAR\": \"m - modern\", \"TOTAL_VALUE\": 2071525.0, \"Y_VAR_TYPE\": \"Kitchen Style\"}, {\"NEIGHBORHOOD\": \"Back Bay/Fenway\", \"OVERALL_COND\": \"ex - excellent\", \"Y_VAR\": \"l - luxury\", \"TOTAL_VALUE\": 2343627.272727273, \"Y_VAR_TYPE\": \"Kitchen Style\"}, {\"NEIGHBORHOOD\": \"Back Bay/Fenway\", \"OVERALL_COND\": \"ex - excellent\", \"Y_VAR\": \"m - modern\", \"TOTAL_VALUE\": 2157533.3333333335, \"Y_VAR_TYPE\": \"Kitchen Style\"}, {\"NEIGHBORHOOD\": \"Back Bay/Fenway\", \"OVERALL_COND\": \"f - fair\", \"Y_VAR\": \"n - no remodeling\", \"TOTAL_VALUE\": 2759900.0, \"Y_VAR_TYPE\": \"Kitchen Style\"}, {\"NEIGHBORHOOD\": \"Back Bay/Fenway\", \"OVERALL_COND\": \"f - fair\", \"Y_VAR\": \"s - semi-modern\", \"TOTAL_VALUE\": 2353500.0, \"Y_VAR_TYPE\": \"Kitchen Style\"}, {\"NEIGHBORHOOD\": \"Back Bay/Fenway\", \"OVERALL_COND\": \"g - good\", \"Y_VAR\": \"l - luxury\", \"TOTAL_VALUE\": 2028331.3653846155, \"Y_VAR_TYPE\": \"Kitchen Style\"}, {\"NEIGHBORHOOD\": \"Back Bay/Fenway\", \"OVERALL_COND\": \"g - good\", \"Y_VAR\": \"m - modern\", \"TOTAL_VALUE\": 1214808.152173913, \"Y_VAR_TYPE\": \"Kitchen Style\"}, {\"NEIGHBORHOOD\": \"Back Bay/Fenway\", \"OVERALL_COND\": \"g - good\", \"Y_VAR\": \"n - no remodeling\", \"TOTAL_VALUE\": 820450.0, \"Y_VAR_TYPE\": \"Kitchen Style\"}, {\"NEIGHBORHOOD\": \"Back Bay/Fenway\", \"OVERALL_COND\": \"g - good\", \"Y_VAR\": \"s - semi-modern\", \"TOTAL_VALUE\": 1177968.9655172413, \"Y_VAR_TYPE\": \"Kitchen Style\"}, {\"NEIGHBORHOOD\": \"Back Bay/Fenway\", \"OVERALL_COND\": \"unknown\", \"Y_VAR\": \"l - luxury\", \"TOTAL_VALUE\": 2759900.0, \"Y_VAR_TYPE\": \"Kitchen Style\"}, {\"NEIGHBORHOOD\": \"Back Bay/Fenway\", \"OVERALL_COND\": \"unknown\", \"Y_VAR\": \"m - modern\", \"TOTAL_VALUE\": 1095788.2352941176, \"Y_VAR_TYPE\": \"Kitchen Style\"}, {\"NEIGHBORHOOD\": \"Back Bay/Fenway\", \"OVERALL_COND\": \"unknown\", \"Y_VAR\": \"s - semi-modern\", \"TOTAL_VALUE\": 800537.5, \"Y_VAR_TYPE\": \"Kitchen Style\"}, {\"NEIGHBORHOOD\": \"Back Bay/Fenway\", \"OVERALL_COND\": \"vg - very good\", \"Y_VAR\": \"l - luxury\", \"TOTAL_VALUE\": 2487350.0, \"Y_VAR_TYPE\": \"Kitchen Style\"}, {\"NEIGHBORHOOD\": \"Back Bay/Fenway\", \"OVERALL_COND\": \"vg - very good\", \"Y_VAR\": \"m - modern\", \"TOTAL_VALUE\": 1443330.0, \"Y_VAR_TYPE\": \"Kitchen Style\"}, {\"NEIGHBORHOOD\": \"Back Bay/Fenway\", \"OVERALL_COND\": \"vg - very good\", \"Y_VAR\": \"s - semi-modern\", \"TOTAL_VALUE\": 1713633.3333333333, \"Y_VAR_TYPE\": \"Kitchen Style\"}, {\"NEIGHBORHOOD\": \"Beacon Hill\", \"OVERALL_COND\": \"a - average\", \"Y_VAR\": \"l - luxury\", \"TOTAL_VALUE\": 1134081.4685314684, \"Y_VAR_TYPE\": \"Kitchen Style\"}, {\"NEIGHBORHOOD\": \"Beacon Hill\", \"OVERALL_COND\": \"a - average\", \"Y_VAR\": \"m - modern\", \"TOTAL_VALUE\": 800201.0498687665, \"Y_VAR_TYPE\": \"Kitchen Style\"}, {\"NEIGHBORHOOD\": \"Beacon Hill\", \"OVERALL_COND\": \"a - average\", \"Y_VAR\": \"n - no remodeling\", \"TOTAL_VALUE\": 721715.6462585034, \"Y_VAR_TYPE\": \"Kitchen Style\"}, {\"NEIGHBORHOOD\": \"Beacon Hill\", \"OVERALL_COND\": \"a - average\", \"Y_VAR\": \"s - semi-modern\", \"TOTAL_VALUE\": 598403.0150753768, \"Y_VAR_TYPE\": \"Kitchen Style\"}, {\"NEIGHBORHOOD\": \"Beacon Hill\", \"OVERALL_COND\": \"e - excellent\", \"Y_VAR\": \"l - luxury\", \"TOTAL_VALUE\": 2628802.380952381, \"Y_VAR_TYPE\": \"Kitchen Style\"}, {\"NEIGHBORHOOD\": \"Beacon Hill\", \"OVERALL_COND\": \"e - excellent\", \"Y_VAR\": \"m - modern\", \"TOTAL_VALUE\": 2759900.0, \"Y_VAR_TYPE\": \"Kitchen Style\"}, {\"NEIGHBORHOOD\": \"Beacon Hill\", \"OVERALL_COND\": \"f - fair\", \"Y_VAR\": \"n - no remodeling\", \"TOTAL_VALUE\": 2410366.6666666665, \"Y_VAR_TYPE\": \"Kitchen Style\"}, {\"NEIGHBORHOOD\": \"Beacon Hill\", \"OVERALL_COND\": \"f - fair\", \"Y_VAR\": \"s - semi-modern\", \"TOTAL_VALUE\": 1616900.0, \"Y_VAR_TYPE\": \"Kitchen Style\"}, {\"NEIGHBORHOOD\": \"Beacon Hill\", \"OVERALL_COND\": \"g - good\", \"Y_VAR\": \"l - luxury\", \"TOTAL_VALUE\": 2477452.4590163934, \"Y_VAR_TYPE\": \"Kitchen Style\"}, {\"NEIGHBORHOOD\": \"Beacon Hill\", \"OVERALL_COND\": \"g - good\", \"Y_VAR\": \"m - modern\", \"TOTAL_VALUE\": 1213092.2817337462, \"Y_VAR_TYPE\": \"Kitchen Style\"}, {\"NEIGHBORHOOD\": \"Beacon Hill\", \"OVERALL_COND\": \"g - good\", \"Y_VAR\": \"n - no remodeling\", \"TOTAL_VALUE\": 1002700.0, \"Y_VAR_TYPE\": \"Kitchen Style\"}, {\"NEIGHBORHOOD\": \"Beacon Hill\", \"OVERALL_COND\": \"g - good\", \"Y_VAR\": \"s - semi-modern\", \"TOTAL_VALUE\": 1773467.7419354839, \"Y_VAR_TYPE\": \"Kitchen Style\"}, {\"NEIGHBORHOOD\": \"Beacon Hill\", \"OVERALL_COND\": \"p - poor\", \"Y_VAR\": \"n - no remodeling\", \"TOTAL_VALUE\": 2759900.0, \"Y_VAR_TYPE\": \"Kitchen Style\"}, {\"NEIGHBORHOOD\": \"Beacon Hill\", \"OVERALL_COND\": \"unknown\", \"Y_VAR\": \"l - luxury\", \"TOTAL_VALUE\": 2012700.0, \"Y_VAR_TYPE\": \"Kitchen Style\"}, {\"NEIGHBORHOOD\": \"Beacon Hill\", \"OVERALL_COND\": \"unknown\", \"Y_VAR\": \"m - modern\", \"TOTAL_VALUE\": 954340.3846153846, \"Y_VAR_TYPE\": \"Kitchen Style\"}, {\"NEIGHBORHOOD\": \"Beacon Hill\", \"OVERALL_COND\": \"unknown\", \"Y_VAR\": \"s - semi-modern\", \"TOTAL_VALUE\": 993850.0, \"Y_VAR_TYPE\": \"Kitchen Style\"}, {\"NEIGHBORHOOD\": \"Beacon Hill\", \"OVERALL_COND\": \"vg - very good\", \"Y_VAR\": \"l - luxury\", \"TOTAL_VALUE\": 661000.0, \"Y_VAR_TYPE\": \"Kitchen Style\"}, {\"NEIGHBORHOOD\": \"Beacon Hill\", \"OVERALL_COND\": \"vg - very good\", \"Y_VAR\": \"m - modern\", \"TOTAL_VALUE\": 699990.9090909091, \"Y_VAR_TYPE\": \"Kitchen Style\"}, {\"NEIGHBORHOOD\": \"Beacon Hill\", \"OVERALL_COND\": \"vg - very good\", \"Y_VAR\": \"s - semi-modern\", \"TOTAL_VALUE\": 635600.0, \"Y_VAR_TYPE\": \"Kitchen Style\"}, {\"NEIGHBORHOOD\": \"Downtown\", \"OVERALL_COND\": \"a - average\", \"Y_VAR\": \"l - luxury\", \"TOTAL_VALUE\": 1999897.7777777778, \"Y_VAR_TYPE\": \"Kitchen Style\"}, {\"NEIGHBORHOOD\": \"Downtown\", \"OVERALL_COND\": \"a - average\", \"Y_VAR\": \"m - modern\", \"TOTAL_VALUE\": 1169857.111597374, \"Y_VAR_TYPE\": \"Kitchen Style\"}, {\"NEIGHBORHOOD\": \"Downtown\", \"OVERALL_COND\": \"a - average\", \"Y_VAR\": \"n - no remodeling\", \"TOTAL_VALUE\": 1215453.3333333333, \"Y_VAR_TYPE\": \"Kitchen Style\"}, {\"NEIGHBORHOOD\": \"Downtown\", \"OVERALL_COND\": \"a - average\", \"Y_VAR\": \"s - semi-modern\", \"TOTAL_VALUE\": 869065.6521739131, \"Y_VAR_TYPE\": \"Kitchen Style\"}, {\"NEIGHBORHOOD\": \"Downtown\", \"OVERALL_COND\": \"e - excellent\", \"Y_VAR\": \"l - luxury\", \"TOTAL_VALUE\": 2697961.0169491526, \"Y_VAR_TYPE\": \"Kitchen Style\"}, {\"NEIGHBORHOOD\": \"Downtown\", \"OVERALL_COND\": \"e - excellent\", \"Y_VAR\": \"m - modern\", \"TOTAL_VALUE\": 2720900.0, \"Y_VAR_TYPE\": \"Kitchen Style\"}, {\"NEIGHBORHOOD\": \"Downtown\", \"OVERALL_COND\": \"e - excellent\", \"Y_VAR\": \"s - semi-modern\", \"TOTAL_VALUE\": 2759900.0, \"Y_VAR_TYPE\": \"Kitchen Style\"}, {\"NEIGHBORHOOD\": \"Downtown\", \"OVERALL_COND\": \"ex - excellent\", \"Y_VAR\": \"l - luxury\", \"TOTAL_VALUE\": 2759900.0, \"Y_VAR_TYPE\": \"Kitchen Style\"}, {\"NEIGHBORHOOD\": \"Downtown\", \"OVERALL_COND\": \"ex - excellent\", \"Y_VAR\": \"m - modern\", \"TOTAL_VALUE\": 2759900.0, \"Y_VAR_TYPE\": \"Kitchen Style\"}, {\"NEIGHBORHOOD\": \"Downtown\", \"OVERALL_COND\": \"f - fair\", \"Y_VAR\": \"n - no remodeling\", \"TOTAL_VALUE\": 2201275.0, \"Y_VAR_TYPE\": \"Kitchen Style\"}, {\"NEIGHBORHOOD\": \"Downtown\", \"OVERALL_COND\": \"f - fair\", \"Y_VAR\": \"s - semi-modern\", \"TOTAL_VALUE\": 2159850.0, \"Y_VAR_TYPE\": \"Kitchen Style\"}, {\"NEIGHBORHOOD\": \"Downtown\", \"OVERALL_COND\": \"g - good\", \"Y_VAR\": \"l - luxury\", \"TOTAL_VALUE\": 2497740.8695652173, \"Y_VAR_TYPE\": \"Kitchen Style\"}, {\"NEIGHBORHOOD\": \"Downtown\", \"OVERALL_COND\": \"g - good\", \"Y_VAR\": \"m - modern\", \"TOTAL_VALUE\": 1765221.2121212122, \"Y_VAR_TYPE\": \"Kitchen Style\"}, {\"NEIGHBORHOOD\": \"Downtown\", \"OVERALL_COND\": \"g - good\", \"Y_VAR\": \"n - no remodeling\", \"TOTAL_VALUE\": 1725342.857142857, \"Y_VAR_TYPE\": \"Kitchen Style\"}, {\"NEIGHBORHOOD\": \"Downtown\", \"OVERALL_COND\": \"g - good\", \"Y_VAR\": \"s - semi-modern\", \"TOTAL_VALUE\": 1971388.0, \"Y_VAR_TYPE\": \"Kitchen Style\"}, {\"NEIGHBORHOOD\": \"Downtown\", \"OVERALL_COND\": \"unknown\", \"Y_VAR\": \"l - luxury\", \"TOTAL_VALUE\": 1802400.0, \"Y_VAR_TYPE\": \"Kitchen Style\"}, {\"NEIGHBORHOOD\": \"Downtown\", \"OVERALL_COND\": \"unknown\", \"Y_VAR\": \"m - modern\", \"TOTAL_VALUE\": 1891080.0, \"Y_VAR_TYPE\": \"Kitchen Style\"}, {\"NEIGHBORHOOD\": \"Downtown\", \"OVERALL_COND\": \"unknown\", \"Y_VAR\": \"n - no remodeling\", \"TOTAL_VALUE\": 2178500.0, \"Y_VAR_TYPE\": \"Kitchen Style\"}, {\"NEIGHBORHOOD\": \"Downtown\", \"OVERALL_COND\": \"vg - very good\", \"Y_VAR\": \"l - luxury\", \"TOTAL_VALUE\": 2457642.8571428573, \"Y_VAR_TYPE\": \"Kitchen Style\"}, {\"NEIGHBORHOOD\": \"Downtown\", \"OVERALL_COND\": \"vg - very good\", \"Y_VAR\": \"m - modern\", \"TOTAL_VALUE\": 1400944.4444444445, \"Y_VAR_TYPE\": \"Kitchen Style\"}, {\"NEIGHBORHOOD\": \"Downtown\", \"OVERALL_COND\": \"vg - very good\", \"Y_VAR\": \"s - semi-modern\", \"TOTAL_VALUE\": 1067200.0, \"Y_VAR_TYPE\": \"Kitchen Style\"}, {\"NEIGHBORHOOD\": \"Fenway/Kenmore\", \"OVERALL_COND\": \"a - average\", \"Y_VAR\": \"l - luxury\", \"TOTAL_VALUE\": 2345458.3333333335, \"Y_VAR_TYPE\": \"Kitchen Style\"}, {\"NEIGHBORHOOD\": \"Fenway/Kenmore\", \"OVERALL_COND\": \"a - average\", \"Y_VAR\": \"m - modern\", \"TOTAL_VALUE\": 719033.6330935252, \"Y_VAR_TYPE\": \"Kitchen Style\"}, {\"NEIGHBORHOOD\": \"Fenway/Kenmore\", \"OVERALL_COND\": \"a - average\", \"Y_VAR\": \"n - no remodeling\", \"TOTAL_VALUE\": 599117.2839506173, \"Y_VAR_TYPE\": \"Kitchen Style\"}, {\"NEIGHBORHOOD\": \"Fenway/Kenmore\", \"OVERALL_COND\": \"a - average\", \"Y_VAR\": \"s - semi-modern\", \"TOTAL_VALUE\": 568631.9754035358, \"Y_VAR_TYPE\": \"Kitchen Style\"}, {\"NEIGHBORHOOD\": \"Fenway/Kenmore\", \"OVERALL_COND\": \"e - excellent\", \"Y_VAR\": \"l - luxury\", \"TOTAL_VALUE\": 2759900.0, \"Y_VAR_TYPE\": \"Kitchen Style\"}, {\"NEIGHBORHOOD\": \"Fenway/Kenmore\", \"OVERALL_COND\": \"ex - excellent\", \"Y_VAR\": \"l - luxury\", \"TOTAL_VALUE\": 1624572.2222222222, \"Y_VAR_TYPE\": \"Kitchen Style\"}, {\"NEIGHBORHOOD\": \"Fenway/Kenmore\", \"OVERALL_COND\": \"g - good\", \"Y_VAR\": \"l - luxury\", \"TOTAL_VALUE\": 779898.1818181818, \"Y_VAR_TYPE\": \"Kitchen Style\"}, {\"NEIGHBORHOOD\": \"Fenway/Kenmore\", \"OVERALL_COND\": \"g - good\", \"Y_VAR\": \"m - modern\", \"TOTAL_VALUE\": 719772.0930232558, \"Y_VAR_TYPE\": \"Kitchen Style\"}, {\"NEIGHBORHOOD\": \"Fenway/Kenmore\", \"OVERALL_COND\": \"g - good\", \"Y_VAR\": \"n - no remodeling\", \"TOTAL_VALUE\": 657460.0, \"Y_VAR_TYPE\": \"Kitchen Style\"}, {\"NEIGHBORHOOD\": \"Fenway/Kenmore\", \"OVERALL_COND\": \"g - good\", \"Y_VAR\": \"s - semi-modern\", \"TOTAL_VALUE\": 672267.619047619, \"Y_VAR_TYPE\": \"Kitchen Style\"}, {\"NEIGHBORHOOD\": \"Fenway/Kenmore\", \"OVERALL_COND\": \"unknown\", \"Y_VAR\": \"m - modern\", \"TOTAL_VALUE\": 817525.8064516129, \"Y_VAR_TYPE\": \"Kitchen Style\"}, {\"NEIGHBORHOOD\": \"Fenway/Kenmore\", \"OVERALL_COND\": \"unknown\", \"Y_VAR\": \"s - semi-modern\", \"TOTAL_VALUE\": 435686.2745098039, \"Y_VAR_TYPE\": \"Kitchen Style\"}, {\"NEIGHBORHOOD\": \"Fenway/Kenmore\", \"OVERALL_COND\": \"vg - very good\", \"Y_VAR\": \"l - luxury\", \"TOTAL_VALUE\": 2686025.0, \"Y_VAR_TYPE\": \"Kitchen Style\"}, {\"NEIGHBORHOOD\": \"Fenway/Kenmore\", \"OVERALL_COND\": \"vg - very good\", \"Y_VAR\": \"m - modern\", \"TOTAL_VALUE\": 1534800.0, \"Y_VAR_TYPE\": \"Kitchen Style\"}, {\"NEIGHBORHOOD\": \"Fenway/Kenmore\", \"OVERALL_COND\": \"vg - very good\", \"Y_VAR\": \"s - semi-modern\", \"TOTAL_VALUE\": 1468000.0, \"Y_VAR_TYPE\": \"Kitchen Style\"}, {\"NEIGHBORHOOD\": \"Financial District\", \"OVERALL_COND\": \"a - average\", \"Y_VAR\": \"l - luxury\", \"TOTAL_VALUE\": 1875105.1162790698, \"Y_VAR_TYPE\": \"Kitchen Style\"}, {\"NEIGHBORHOOD\": \"Financial District\", \"OVERALL_COND\": \"a - average\", \"Y_VAR\": \"m - modern\", \"TOTAL_VALUE\": 962436.0724233984, \"Y_VAR_TYPE\": \"Kitchen Style\"}, {\"NEIGHBORHOOD\": \"Financial District\", \"OVERALL_COND\": \"a - average\", \"Y_VAR\": \"n - no remodeling\", \"TOTAL_VALUE\": 794406.0606060605, \"Y_VAR_TYPE\": \"Kitchen Style\"}, {\"NEIGHBORHOOD\": \"Financial District\", \"OVERALL_COND\": \"a - average\", \"Y_VAR\": \"s - semi-modern\", \"TOTAL_VALUE\": 867691.7808219178, \"Y_VAR_TYPE\": \"Kitchen Style\"}, {\"NEIGHBORHOOD\": \"Financial District\", \"OVERALL_COND\": \"e - excellent\", \"Y_VAR\": \"l - luxury\", \"TOTAL_VALUE\": 2420438.2352941176, \"Y_VAR_TYPE\": \"Kitchen Style\"}, {\"NEIGHBORHOOD\": \"Financial District\", \"OVERALL_COND\": \"ex - excellent\", \"Y_VAR\": \"l - luxury\", \"TOTAL_VALUE\": 2011800.0, \"Y_VAR_TYPE\": \"Kitchen Style\"}, {\"NEIGHBORHOOD\": \"Financial District\", \"OVERALL_COND\": \"g - good\", \"Y_VAR\": \"l - luxury\", \"TOTAL_VALUE\": 1971072.7272727273, \"Y_VAR_TYPE\": \"Kitchen Style\"}, {\"NEIGHBORHOOD\": \"Financial District\", \"OVERALL_COND\": \"g - good\", \"Y_VAR\": \"m - modern\", \"TOTAL_VALUE\": 1143028.0, \"Y_VAR_TYPE\": \"Kitchen Style\"}, {\"NEIGHBORHOOD\": \"Financial District\", \"OVERALL_COND\": \"g - good\", \"Y_VAR\": \"n - no remodeling\", \"TOTAL_VALUE\": 1137550.0, \"Y_VAR_TYPE\": \"Kitchen Style\"}, {\"NEIGHBORHOOD\": \"Financial District\", \"OVERALL_COND\": \"unknown\", \"Y_VAR\": \"m - modern\", \"TOTAL_VALUE\": 783711.3636363636, \"Y_VAR_TYPE\": \"Kitchen Style\"}, {\"NEIGHBORHOOD\": \"Financial District\", \"OVERALL_COND\": \"vg - very good\", \"Y_VAR\": \"l - luxury\", \"TOTAL_VALUE\": 1910050.0, \"Y_VAR_TYPE\": \"Kitchen Style\"}, {\"NEIGHBORHOOD\": \"Financial District\", \"OVERALL_COND\": \"vg - very good\", \"Y_VAR\": \"m - modern\", \"TOTAL_VALUE\": 2338050.0, \"Y_VAR_TYPE\": \"Kitchen Style\"}, {\"NEIGHBORHOOD\": \"North End\", \"OVERALL_COND\": \"a - average\", \"Y_VAR\": \"l - luxury\", \"TOTAL_VALUE\": 2170572.6495726495, \"Y_VAR_TYPE\": \"Kitchen Style\"}, {\"NEIGHBORHOOD\": \"North End\", \"OVERALL_COND\": \"a - average\", \"Y_VAR\": \"m - modern\", \"TOTAL_VALUE\": 872532.0987654321, \"Y_VAR_TYPE\": \"Kitchen Style\"}, {\"NEIGHBORHOOD\": \"North End\", \"OVERALL_COND\": \"a - average\", \"Y_VAR\": \"n - no remodeling\", \"TOTAL_VALUE\": 783076.0869565217, \"Y_VAR_TYPE\": \"Kitchen Style\"}, {\"NEIGHBORHOOD\": \"North End\", \"OVERALL_COND\": \"a - average\", \"Y_VAR\": \"s - semi-modern\", \"TOTAL_VALUE\": 725864.315352697, \"Y_VAR_TYPE\": \"Kitchen Style\"}, {\"NEIGHBORHOOD\": \"North End\", \"OVERALL_COND\": \"e - excellent\", \"Y_VAR\": \"l - luxury\", \"TOTAL_VALUE\": 2759900.0, \"Y_VAR_TYPE\": \"Kitchen Style\"}, {\"NEIGHBORHOOD\": \"North End\", \"OVERALL_COND\": \"ex - excellent\", \"Y_VAR\": \"l - luxury\", \"TOTAL_VALUE\": 2231433.3333333335, \"Y_VAR_TYPE\": \"Kitchen Style\"}, {\"NEIGHBORHOOD\": \"North End\", \"OVERALL_COND\": \"ex - excellent\", \"Y_VAR\": \"m - modern\", \"TOTAL_VALUE\": 1852200.0, \"Y_VAR_TYPE\": \"Kitchen Style\"}, {\"NEIGHBORHOOD\": \"North End\", \"OVERALL_COND\": \"f - fair\", \"Y_VAR\": \"n - no remodeling\", \"TOTAL_VALUE\": 973550.0, \"Y_VAR_TYPE\": \"Kitchen Style\"}, {\"NEIGHBORHOOD\": \"North End\", \"OVERALL_COND\": \"g - good\", \"Y_VAR\": \"l - luxury\", \"TOTAL_VALUE\": 2044511.2359550563, \"Y_VAR_TYPE\": \"Kitchen Style\"}, {\"NEIGHBORHOOD\": \"North End\", \"OVERALL_COND\": \"g - good\", \"Y_VAR\": \"m - modern\", \"TOTAL_VALUE\": 939998.245614035, \"Y_VAR_TYPE\": \"Kitchen Style\"}, {\"NEIGHBORHOOD\": \"North End\", \"OVERALL_COND\": \"g - good\", \"Y_VAR\": \"n - no remodeling\", \"TOTAL_VALUE\": 1403800.0, \"Y_VAR_TYPE\": \"Kitchen Style\"}, {\"NEIGHBORHOOD\": \"North End\", \"OVERALL_COND\": \"g - good\", \"Y_VAR\": \"s - semi-modern\", \"TOTAL_VALUE\": 692109.0909090909, \"Y_VAR_TYPE\": \"Kitchen Style\"}, {\"NEIGHBORHOOD\": \"North End\", \"OVERALL_COND\": \"unknown\", \"Y_VAR\": \"l - luxury\", \"TOTAL_VALUE\": 2759900.0, \"Y_VAR_TYPE\": \"Kitchen Style\"}, {\"NEIGHBORHOOD\": \"North End\", \"OVERALL_COND\": \"unknown\", \"Y_VAR\": \"m - modern\", \"TOTAL_VALUE\": 760994.4444444445, \"Y_VAR_TYPE\": \"Kitchen Style\"}, {\"NEIGHBORHOOD\": \"North End\", \"OVERALL_COND\": \"unknown\", \"Y_VAR\": \"s - semi-modern\", \"TOTAL_VALUE\": 739620.0, \"Y_VAR_TYPE\": \"Kitchen Style\"}, {\"NEIGHBORHOOD\": \"Seaport\", \"OVERALL_COND\": \"a - average\", \"Y_VAR\": \"l - luxury\", \"TOTAL_VALUE\": 2019275.204359673, \"Y_VAR_TYPE\": \"Kitchen Style\"}, {\"NEIGHBORHOOD\": \"Seaport\", \"OVERALL_COND\": \"a - average\", \"Y_VAR\": \"m - modern\", \"TOTAL_VALUE\": 868245.4545454546, \"Y_VAR_TYPE\": \"Kitchen Style\"}, {\"NEIGHBORHOOD\": \"Seaport\", \"OVERALL_COND\": \"a - average\", \"Y_VAR\": \"s - semi-modern\", \"TOTAL_VALUE\": 978948.5294117647, \"Y_VAR_TYPE\": \"Kitchen Style\"}, {\"NEIGHBORHOOD\": \"Seaport\", \"OVERALL_COND\": \"e - excellent\", \"Y_VAR\": \"l - luxury\", \"TOTAL_VALUE\": 1507099.132947977, \"Y_VAR_TYPE\": \"Kitchen Style\"}, {\"NEIGHBORHOOD\": \"Seaport\", \"OVERALL_COND\": \"ex - excellent\", \"Y_VAR\": \"l - luxury\", \"TOTAL_VALUE\": 1788599.0476190476, \"Y_VAR_TYPE\": \"Kitchen Style\"}, {\"NEIGHBORHOOD\": \"Seaport\", \"OVERALL_COND\": \"f - fair\", \"Y_VAR\": \"l - luxury\", \"TOTAL_VALUE\": 2351900.0, \"Y_VAR_TYPE\": \"Kitchen Style\"}, {\"NEIGHBORHOOD\": \"Seaport\", \"OVERALL_COND\": \"g - good\", \"Y_VAR\": \"l - luxury\", \"TOTAL_VALUE\": 2511190.4, \"Y_VAR_TYPE\": \"Kitchen Style\"}, {\"NEIGHBORHOOD\": \"Seaport\", \"OVERALL_COND\": \"g - good\", \"Y_VAR\": \"m - modern\", \"TOTAL_VALUE\": 1344029.8076923077, \"Y_VAR_TYPE\": \"Kitchen Style\"}, {\"NEIGHBORHOOD\": \"Seaport\", \"OVERALL_COND\": \"g - good\", \"Y_VAR\": \"s - semi-modern\", \"TOTAL_VALUE\": 1039785.7142857143, \"Y_VAR_TYPE\": \"Kitchen Style\"}, {\"NEIGHBORHOOD\": \"Seaport\", \"OVERALL_COND\": \"unknown\", \"Y_VAR\": \"l - luxury\", \"TOTAL_VALUE\": 1698071.4285714286, \"Y_VAR_TYPE\": \"Kitchen Style\"}, {\"NEIGHBORHOOD\": \"Seaport\", \"OVERALL_COND\": \"unknown\", \"Y_VAR\": \"m - modern\", \"TOTAL_VALUE\": 991292.8, \"Y_VAR_TYPE\": \"Kitchen Style\"}, {\"NEIGHBORHOOD\": \"Seaport\", \"OVERALL_COND\": \"unknown\", \"Y_VAR\": \"n - no remodeling\", \"TOTAL_VALUE\": 814150.0, \"Y_VAR_TYPE\": \"Kitchen Style\"}, {\"NEIGHBORHOOD\": \"Seaport\", \"OVERALL_COND\": \"unknown\", \"Y_VAR\": \"s - semi-modern\", \"TOTAL_VALUE\": 796349.0136986302, \"Y_VAR_TYPE\": \"Kitchen Style\"}, {\"NEIGHBORHOOD\": \"South End\", \"OVERALL_COND\": \"a - average\", \"Y_VAR\": \"l - luxury\", \"TOTAL_VALUE\": 1891023.611111111, \"Y_VAR_TYPE\": \"Kitchen Style\"}, {\"NEIGHBORHOOD\": \"South End\", \"OVERALL_COND\": \"a - average\", \"Y_VAR\": \"m - modern\", \"TOTAL_VALUE\": 991243.1046025105, \"Y_VAR_TYPE\": \"Kitchen Style\"}, {\"NEIGHBORHOOD\": \"South End\", \"OVERALL_COND\": \"a - average\", \"Y_VAR\": \"n - no remodeling\", \"TOTAL_VALUE\": 1286751.1904761905, \"Y_VAR_TYPE\": \"Kitchen Style\"}, {\"NEIGHBORHOOD\": \"South End\", \"OVERALL_COND\": \"a - average\", \"Y_VAR\": \"s - semi-modern\", \"TOTAL_VALUE\": 813036.404494382, \"Y_VAR_TYPE\": \"Kitchen Style\"}, {\"NEIGHBORHOOD\": \"South End\", \"OVERALL_COND\": \"e - excellent\", \"Y_VAR\": \"l - luxury\", \"TOTAL_VALUE\": 2220616.6666666665, \"Y_VAR_TYPE\": \"Kitchen Style\"}, {\"NEIGHBORHOOD\": \"South End\", \"OVERALL_COND\": \"e - excellent\", \"Y_VAR\": \"m - modern\", \"TOTAL_VALUE\": 2381266.6666666665, \"Y_VAR_TYPE\": \"Kitchen Style\"}, {\"NEIGHBORHOOD\": \"South End\", \"OVERALL_COND\": \"ex - excellent\", \"Y_VAR\": \"l - luxury\", \"TOTAL_VALUE\": 1918600.0, \"Y_VAR_TYPE\": \"Kitchen Style\"}, {\"NEIGHBORHOOD\": \"South End\", \"OVERALL_COND\": \"ex - excellent\", \"Y_VAR\": \"m - modern\", \"TOTAL_VALUE\": 2759900.0, \"Y_VAR_TYPE\": \"Kitchen Style\"}, {\"NEIGHBORHOOD\": \"South End\", \"OVERALL_COND\": \"f - fair\", \"Y_VAR\": \"m - modern\", \"TOTAL_VALUE\": 1921100.0, \"Y_VAR_TYPE\": \"Kitchen Style\"}, {\"NEIGHBORHOOD\": \"South End\", \"OVERALL_COND\": \"f - fair\", \"Y_VAR\": \"n - no remodeling\", \"TOTAL_VALUE\": 2261623.076923077, \"Y_VAR_TYPE\": \"Kitchen Style\"}, {\"NEIGHBORHOOD\": \"South End\", \"OVERALL_COND\": \"f - fair\", \"Y_VAR\": \"s - semi-modern\", \"TOTAL_VALUE\": 2753600.0, \"Y_VAR_TYPE\": \"Kitchen Style\"}, {\"NEIGHBORHOOD\": \"South End\", \"OVERALL_COND\": \"g - good\", \"Y_VAR\": \"l - luxury\", \"TOTAL_VALUE\": 1790517.7615571776, \"Y_VAR_TYPE\": \"Kitchen Style\"}, {\"NEIGHBORHOOD\": \"South End\", \"OVERALL_COND\": \"g - good\", \"Y_VAR\": \"m - modern\", \"TOTAL_VALUE\": 1123182.8, \"Y_VAR_TYPE\": \"Kitchen Style\"}, {\"NEIGHBORHOOD\": \"South End\", \"OVERALL_COND\": \"g - good\", \"Y_VAR\": \"n - no remodeling\", \"TOTAL_VALUE\": 857533.3333333334, \"Y_VAR_TYPE\": \"Kitchen Style\"}, {\"NEIGHBORHOOD\": \"South End\", \"OVERALL_COND\": \"g - good\", \"Y_VAR\": \"s - semi-modern\", \"TOTAL_VALUE\": 1004941.5224913495, \"Y_VAR_TYPE\": \"Kitchen Style\"}, {\"NEIGHBORHOOD\": \"South End\", \"OVERALL_COND\": \"p - poor\", \"Y_VAR\": \"n - no remodeling\", \"TOTAL_VALUE\": 1976325.0, \"Y_VAR_TYPE\": \"Kitchen Style\"}, {\"NEIGHBORHOOD\": \"South End\", \"OVERALL_COND\": \"unknown\", \"Y_VAR\": \"l - luxury\", \"TOTAL_VALUE\": 1852068.75, \"Y_VAR_TYPE\": \"Kitchen Style\"}, {\"NEIGHBORHOOD\": \"South End\", \"OVERALL_COND\": \"unknown\", \"Y_VAR\": \"m - modern\", \"TOTAL_VALUE\": 942137.5972850679, \"Y_VAR_TYPE\": \"Kitchen Style\"}, {\"NEIGHBORHOOD\": \"South End\", \"OVERALL_COND\": \"unknown\", \"Y_VAR\": \"s - semi-modern\", \"TOTAL_VALUE\": 684201.6393442623, \"Y_VAR_TYPE\": \"Kitchen Style\"}, {\"NEIGHBORHOOD\": \"South End\", \"OVERALL_COND\": \"vg - very good\", \"Y_VAR\": \"l - luxury\", \"TOTAL_VALUE\": 1558400.0, \"Y_VAR_TYPE\": \"Kitchen Style\"}, {\"NEIGHBORHOOD\": \"South End\", \"OVERALL_COND\": \"vg - very good\", \"Y_VAR\": \"m - modern\", \"TOTAL_VALUE\": 1249866.6666666667, \"Y_VAR_TYPE\": \"Kitchen Style\"}, {\"NEIGHBORHOOD\": \"South End\", \"OVERALL_COND\": \"vg - very good\", \"Y_VAR\": \"s - semi-modern\", \"TOTAL_VALUE\": 740260.1694915254, \"Y_VAR_TYPE\": \"Kitchen Style\"}, {\"NEIGHBORHOOD\": \"Allston\", \"OVERALL_COND\": \"a - average\", \"Y_VAR\": \"l - luxury\", \"TOTAL_VALUE\": 852966.6666666666, \"Y_VAR_TYPE\": \"Bathroom Style\"}, {\"NEIGHBORHOOD\": \"Allston\", \"OVERALL_COND\": \"a - average\", \"Y_VAR\": \"m - modern\", \"TOTAL_VALUE\": 714747.601010101, \"Y_VAR_TYPE\": \"Bathroom Style\"}, {\"NEIGHBORHOOD\": \"Allston\", \"OVERALL_COND\": \"a - average\", \"Y_VAR\": \"n - no remodeling\", \"TOTAL_VALUE\": 673923.849372385, \"Y_VAR_TYPE\": \"Bathroom Style\"}, {\"NEIGHBORHOOD\": \"Allston\", \"OVERALL_COND\": \"a - average\", \"Y_VAR\": \"s - semi-modern\", \"TOTAL_VALUE\": 657218.4223918575, \"Y_VAR_TYPE\": \"Bathroom Style\"}, {\"NEIGHBORHOOD\": \"Allston\", \"OVERALL_COND\": \"e - excellent\", \"Y_VAR\": \"l - luxury\", \"TOTAL_VALUE\": 1164566.6666666667, \"Y_VAR_TYPE\": \"Bathroom Style\"}, {\"NEIGHBORHOOD\": \"Allston\", \"OVERALL_COND\": \"f - fair\", \"Y_VAR\": \"n - no remodeling\", \"TOTAL_VALUE\": 817478.5714285715, \"Y_VAR_TYPE\": \"Bathroom Style\"}, {\"NEIGHBORHOOD\": \"Allston\", \"OVERALL_COND\": \"f - fair\", \"Y_VAR\": \"s - semi-modern\", \"TOTAL_VALUE\": 981500.0, \"Y_VAR_TYPE\": \"Bathroom Style\"}, {\"NEIGHBORHOOD\": \"Allston\", \"OVERALL_COND\": \"g - good\", \"Y_VAR\": \"l - luxury\", \"TOTAL_VALUE\": 678597.1428571428, \"Y_VAR_TYPE\": \"Bathroom Style\"}, {\"NEIGHBORHOOD\": \"Allston\", \"OVERALL_COND\": \"g - good\", \"Y_VAR\": \"m - modern\", \"TOTAL_VALUE\": 991711.3636363636, \"Y_VAR_TYPE\": \"Bathroom Style\"}, {\"NEIGHBORHOOD\": \"Allston\", \"OVERALL_COND\": \"g - good\", \"Y_VAR\": \"n - no remodeling\", \"TOTAL_VALUE\": 1143900.0, \"Y_VAR_TYPE\": \"Bathroom Style\"}, {\"NEIGHBORHOOD\": \"Allston\", \"OVERALL_COND\": \"g - good\", \"Y_VAR\": \"s - semi-modern\", \"TOTAL_VALUE\": 1077857.6923076923, \"Y_VAR_TYPE\": \"Bathroom Style\"}, {\"NEIGHBORHOOD\": \"Allston\", \"OVERALL_COND\": \"p - poor\", \"Y_VAR\": \"s - semi-modern\", \"TOTAL_VALUE\": 529900.0, \"Y_VAR_TYPE\": \"Bathroom Style\"}, {\"NEIGHBORHOOD\": \"Allston\", \"OVERALL_COND\": \"unknown\", \"Y_VAR\": \"m - modern\", \"TOTAL_VALUE\": 605300.0, \"Y_VAR_TYPE\": \"Bathroom Style\"}, {\"NEIGHBORHOOD\": \"Allston\", \"OVERALL_COND\": \"unknown\", \"Y_VAR\": \"n - no remodeling\", \"TOTAL_VALUE\": 356800.0, \"Y_VAR_TYPE\": \"Bathroom Style\"}, {\"NEIGHBORHOOD\": \"Allston\", \"OVERALL_COND\": \"unknown\", \"Y_VAR\": \"s - semi-modern\", \"TOTAL_VALUE\": 474343.75, \"Y_VAR_TYPE\": \"Bathroom Style\"}, {\"NEIGHBORHOOD\": \"Back Bay\", \"OVERALL_COND\": \"a - average\", \"Y_VAR\": \"l - luxury\", \"TOTAL_VALUE\": 2147600.622665006, \"Y_VAR_TYPE\": \"Bathroom Style\"}, {\"NEIGHBORHOOD\": \"Back Bay\", \"OVERALL_COND\": \"a - average\", \"Y_VAR\": \"m - modern\", \"TOTAL_VALUE\": 1224744.924827306, \"Y_VAR_TYPE\": \"Bathroom Style\"}, {\"NEIGHBORHOOD\": \"Back Bay\", \"OVERALL_COND\": \"a - average\", \"Y_VAR\": \"n - no remodeling\", \"TOTAL_VALUE\": 1237432.6923076923, \"Y_VAR_TYPE\": \"Bathroom Style\"}, {\"NEIGHBORHOOD\": \"Back Bay\", \"OVERALL_COND\": \"a - average\", \"Y_VAR\": \"s - semi-modern\", \"TOTAL_VALUE\": 910804.4359255203, \"Y_VAR_TYPE\": \"Bathroom Style\"}, {\"NEIGHBORHOOD\": \"Back Bay\", \"OVERALL_COND\": \"e - excellent\", \"Y_VAR\": \"l - luxury\", \"TOTAL_VALUE\": 2693532.638888889, \"Y_VAR_TYPE\": \"Bathroom Style\"}, {\"NEIGHBORHOOD\": \"Back Bay\", \"OVERALL_COND\": \"e - excellent\", \"Y_VAR\": \"m - modern\", \"TOTAL_VALUE\": 2500643.4782608696, \"Y_VAR_TYPE\": \"Bathroom Style\"}, {\"NEIGHBORHOOD\": \"Back Bay\", \"OVERALL_COND\": \"ex - excellent\", \"Y_VAR\": \"l - luxury\", \"TOTAL_VALUE\": 2628266.25, \"Y_VAR_TYPE\": \"Bathroom Style\"}, {\"NEIGHBORHOOD\": \"Back Bay\", \"OVERALL_COND\": \"ex - excellent\", \"Y_VAR\": \"m - modern\", \"TOTAL_VALUE\": 1781206.0240963856, \"Y_VAR_TYPE\": \"Bathroom Style\"}, {\"NEIGHBORHOOD\": \"Back Bay\", \"OVERALL_COND\": \"ex - excellent\", \"Y_VAR\": \"s - semi-modern\", \"TOTAL_VALUE\": 523200.0, \"Y_VAR_TYPE\": \"Bathroom Style\"}, {\"NEIGHBORHOOD\": \"Back Bay\", \"OVERALL_COND\": \"f - fair\", \"Y_VAR\": \"m - modern\", \"TOTAL_VALUE\": 2196450.0, \"Y_VAR_TYPE\": \"Bathroom Style\"}, {\"NEIGHBORHOOD\": \"Back Bay\", \"OVERALL_COND\": \"f - fair\", \"Y_VAR\": \"n - no remodeling\", \"TOTAL_VALUE\": 2003683.3333333333, \"Y_VAR_TYPE\": \"Bathroom Style\"}, {\"NEIGHBORHOOD\": \"Back Bay\", \"OVERALL_COND\": \"f - fair\", \"Y_VAR\": \"s - semi-modern\", \"TOTAL_VALUE\": 2064866.6666666667, \"Y_VAR_TYPE\": \"Bathroom Style\"}, {\"NEIGHBORHOOD\": \"Back Bay\", \"OVERALL_COND\": \"g - good\", \"Y_VAR\": \"l - luxury\", \"TOTAL_VALUE\": 2337954.12371134, \"Y_VAR_TYPE\": \"Bathroom Style\"}, {\"NEIGHBORHOOD\": \"Back Bay\", \"OVERALL_COND\": \"g - good\", \"Y_VAR\": \"m - modern\", \"TOTAL_VALUE\": 1411910.752688172, \"Y_VAR_TYPE\": \"Bathroom Style\"}, {\"NEIGHBORHOOD\": \"Back Bay\", \"OVERALL_COND\": \"g - good\", \"Y_VAR\": \"n - no remodeling\", \"TOTAL_VALUE\": 1170150.0, \"Y_VAR_TYPE\": \"Bathroom Style\"}, {\"NEIGHBORHOOD\": \"Back Bay\", \"OVERALL_COND\": \"g - good\", \"Y_VAR\": \"s - semi-modern\", \"TOTAL_VALUE\": 1389036.475409836, \"Y_VAR_TYPE\": \"Bathroom Style\"}, {\"NEIGHBORHOOD\": \"Back Bay\", \"OVERALL_COND\": \"p - poor\", \"Y_VAR\": \"n - no remodeling\", \"TOTAL_VALUE\": 1634233.3333333333, \"Y_VAR_TYPE\": \"Bathroom Style\"}, {\"NEIGHBORHOOD\": \"Back Bay\", \"OVERALL_COND\": \"unknown\", \"Y_VAR\": \"l - luxury\", \"TOTAL_VALUE\": 2160875.0, \"Y_VAR_TYPE\": \"Bathroom Style\"}, {\"NEIGHBORHOOD\": \"Back Bay\", \"OVERALL_COND\": \"unknown\", \"Y_VAR\": \"m - modern\", \"TOTAL_VALUE\": 1024630.2631578947, \"Y_VAR_TYPE\": \"Bathroom Style\"}, {\"NEIGHBORHOOD\": \"Back Bay\", \"OVERALL_COND\": \"unknown\", \"Y_VAR\": \"n - no remodeling\", \"TOTAL_VALUE\": 840700.0, \"Y_VAR_TYPE\": \"Bathroom Style\"}, {\"NEIGHBORHOOD\": \"Back Bay\", \"OVERALL_COND\": \"unknown\", \"Y_VAR\": \"s - semi-modern\", \"TOTAL_VALUE\": 697347.3684210526, \"Y_VAR_TYPE\": \"Bathroom Style\"}, {\"NEIGHBORHOOD\": \"Back Bay\", \"OVERALL_COND\": \"vg - very good\", \"Y_VAR\": \"l - luxury\", \"TOTAL_VALUE\": 2448164.864864865, \"Y_VAR_TYPE\": \"Bathroom Style\"}, {\"NEIGHBORHOOD\": \"Back Bay\", \"OVERALL_COND\": \"vg - very good\", \"Y_VAR\": \"m - modern\", \"TOTAL_VALUE\": 2141439.552238806, \"Y_VAR_TYPE\": \"Bathroom Style\"}, {\"NEIGHBORHOOD\": \"Back Bay\", \"OVERALL_COND\": \"vg - very good\", \"Y_VAR\": \"s - semi-modern\", \"TOTAL_VALUE\": 1328333.3333333333, \"Y_VAR_TYPE\": \"Bathroom Style\"}, {\"NEIGHBORHOOD\": \"Back Bay/Fenway\", \"OVERALL_COND\": \"a - average\", \"Y_VAR\": \"l - luxury\", \"TOTAL_VALUE\": 2203592.9292929294, \"Y_VAR_TYPE\": \"Bathroom Style\"}, {\"NEIGHBORHOOD\": \"Back Bay/Fenway\", \"OVERALL_COND\": \"a - average\", \"Y_VAR\": \"m - modern\", \"TOTAL_VALUE\": 860072.048192771, \"Y_VAR_TYPE\": \"Bathroom Style\"}, {\"NEIGHBORHOOD\": \"Back Bay/Fenway\", \"OVERALL_COND\": \"a - average\", \"Y_VAR\": \"n - no remodeling\", \"TOTAL_VALUE\": 760474.647887324, \"Y_VAR_TYPE\": \"Bathroom Style\"}, {\"NEIGHBORHOOD\": \"Back Bay/Fenway\", \"OVERALL_COND\": \"a - average\", \"Y_VAR\": \"s - semi-modern\", \"TOTAL_VALUE\": 698925.366568915, \"Y_VAR_TYPE\": \"Bathroom Style\"}, {\"NEIGHBORHOOD\": \"Back Bay/Fenway\", \"OVERALL_COND\": \"e - excellent\", \"Y_VAR\": \"l - luxury\", \"TOTAL_VALUE\": 2546960.3260869565, \"Y_VAR_TYPE\": \"Bathroom Style\"}, {\"NEIGHBORHOOD\": \"Back Bay/Fenway\", \"OVERALL_COND\": \"e - excellent\", \"Y_VAR\": \"m - modern\", \"TOTAL_VALUE\": 2402362.5, \"Y_VAR_TYPE\": \"Bathroom Style\"}, {\"NEIGHBORHOOD\": \"Back Bay/Fenway\", \"OVERALL_COND\": \"ex - excellent\", \"Y_VAR\": \"l - luxury\", \"TOTAL_VALUE\": 2302000.0, \"Y_VAR_TYPE\": \"Bathroom Style\"}, {\"NEIGHBORHOOD\": \"Back Bay/Fenway\", \"OVERALL_COND\": \"ex - excellent\", \"Y_VAR\": \"m - modern\", \"TOTAL_VALUE\": 2308125.0, \"Y_VAR_TYPE\": \"Bathroom Style\"}, {\"NEIGHBORHOOD\": \"Back Bay/Fenway\", \"OVERALL_COND\": \"f - fair\", \"Y_VAR\": \"n - no remodeling\", \"TOTAL_VALUE\": 2759900.0, \"Y_VAR_TYPE\": \"Bathroom Style\"}, {\"NEIGHBORHOOD\": \"Back Bay/Fenway\", \"OVERALL_COND\": \"f - fair\", \"Y_VAR\": \"s - semi-modern\", \"TOTAL_VALUE\": 2353500.0, \"Y_VAR_TYPE\": \"Bathroom Style\"}, {\"NEIGHBORHOOD\": \"Back Bay/Fenway\", \"OVERALL_COND\": \"g - good\", \"Y_VAR\": \"l - luxury\", \"TOTAL_VALUE\": 1992709.170212766, \"Y_VAR_TYPE\": \"Bathroom Style\"}, {\"NEIGHBORHOOD\": \"Back Bay/Fenway\", \"OVERALL_COND\": \"g - good\", \"Y_VAR\": \"m - modern\", \"TOTAL_VALUE\": 1294566.8393782384, \"Y_VAR_TYPE\": \"Bathroom Style\"}, {\"NEIGHBORHOOD\": \"Back Bay/Fenway\", \"OVERALL_COND\": \"g - good\", \"Y_VAR\": \"s - semi-modern\", \"TOTAL_VALUE\": 1102757.3770491802, \"Y_VAR_TYPE\": \"Bathroom Style\"}, {\"NEIGHBORHOOD\": \"Back Bay/Fenway\", \"OVERALL_COND\": \"unknown\", \"Y_VAR\": \"m - modern\", \"TOTAL_VALUE\": 1202517.6470588236, \"Y_VAR_TYPE\": \"Bathroom Style\"}, {\"NEIGHBORHOOD\": \"Back Bay/Fenway\", \"OVERALL_COND\": \"unknown\", \"Y_VAR\": \"s - semi-modern\", \"TOTAL_VALUE\": 816644.4444444445, \"Y_VAR_TYPE\": \"Bathroom Style\"}, {\"NEIGHBORHOOD\": \"Back Bay/Fenway\", \"OVERALL_COND\": \"vg - very good\", \"Y_VAR\": \"l - luxury\", \"TOTAL_VALUE\": 2526285.714285714, \"Y_VAR_TYPE\": \"Bathroom Style\"}, {\"NEIGHBORHOOD\": \"Back Bay/Fenway\", \"OVERALL_COND\": \"vg - very good\", \"Y_VAR\": \"m - modern\", \"TOTAL_VALUE\": 1296175.0, \"Y_VAR_TYPE\": \"Bathroom Style\"}, {\"NEIGHBORHOOD\": \"Back Bay/Fenway\", \"OVERALL_COND\": \"vg - very good\", \"Y_VAR\": \"s - semi-modern\", \"TOTAL_VALUE\": 1611225.0, \"Y_VAR_TYPE\": \"Bathroom Style\"}, {\"NEIGHBORHOOD\": \"Beacon Hill\", \"OVERALL_COND\": \"a - average\", \"Y_VAR\": \"l - luxury\", \"TOTAL_VALUE\": 1596583.211678832, \"Y_VAR_TYPE\": \"Bathroom Style\"}, {\"NEIGHBORHOOD\": \"Beacon Hill\", \"OVERALL_COND\": \"a - average\", \"Y_VAR\": \"m - modern\", \"TOTAL_VALUE\": 825940.366088632, \"Y_VAR_TYPE\": \"Bathroom Style\"}, {\"NEIGHBORHOOD\": \"Beacon Hill\", \"OVERALL_COND\": \"a - average\", \"Y_VAR\": \"n - no remodeling\", \"TOTAL_VALUE\": 803525.2173913043, \"Y_VAR_TYPE\": \"Bathroom Style\"}, {\"NEIGHBORHOOD\": \"Beacon Hill\", \"OVERALL_COND\": \"a - average\", \"Y_VAR\": \"s - semi-modern\", \"TOTAL_VALUE\": 602093.9864864865, \"Y_VAR_TYPE\": \"Bathroom Style\"}, {\"NEIGHBORHOOD\": \"Beacon Hill\", \"OVERALL_COND\": \"e - excellent\", \"Y_VAR\": \"l - luxury\", \"TOTAL_VALUE\": 2641400.0, \"Y_VAR_TYPE\": \"Bathroom Style\"}, {\"NEIGHBORHOOD\": \"Beacon Hill\", \"OVERALL_COND\": \"e - excellent\", \"Y_VAR\": \"m - modern\", \"TOTAL_VALUE\": 2633528.5714285714, \"Y_VAR_TYPE\": \"Bathroom Style\"}, {\"NEIGHBORHOOD\": \"Beacon Hill\", \"OVERALL_COND\": \"e - excellent\", \"Y_VAR\": \"s - semi-modern\", \"TOTAL_VALUE\": 2759900.0, \"Y_VAR_TYPE\": \"Bathroom Style\"}, {\"NEIGHBORHOOD\": \"Beacon Hill\", \"OVERALL_COND\": \"f - fair\", \"Y_VAR\": \"n - no remodeling\", \"TOTAL_VALUE\": 2212000.0, \"Y_VAR_TYPE\": \"Bathroom Style\"}, {\"NEIGHBORHOOD\": \"Beacon Hill\", \"OVERALL_COND\": \"g - good\", \"Y_VAR\": \"l - luxury\", \"TOTAL_VALUE\": 2484193.2926829266, \"Y_VAR_TYPE\": \"Bathroom Style\"}, {\"NEIGHBORHOOD\": \"Beacon Hill\", \"OVERALL_COND\": \"g - good\", \"Y_VAR\": \"m - modern\", \"TOTAL_VALUE\": 1277453.294642857, \"Y_VAR_TYPE\": \"Bathroom Style\"}, {\"NEIGHBORHOOD\": \"Beacon Hill\", \"OVERALL_COND\": \"g - good\", \"Y_VAR\": \"n - no remodeling\", \"TOTAL_VALUE\": 1002700.0, \"Y_VAR_TYPE\": \"Bathroom Style\"}, {\"NEIGHBORHOOD\": \"Beacon Hill\", \"OVERALL_COND\": \"g - good\", \"Y_VAR\": \"s - semi-modern\", \"TOTAL_VALUE\": 1717516.2162162163, \"Y_VAR_TYPE\": \"Bathroom Style\"}, {\"NEIGHBORHOOD\": \"Beacon Hill\", \"OVERALL_COND\": \"p - poor\", \"Y_VAR\": \"m - modern\", \"TOTAL_VALUE\": 2759900.0, \"Y_VAR_TYPE\": \"Bathroom Style\"}, {\"NEIGHBORHOOD\": \"Beacon Hill\", \"OVERALL_COND\": \"unknown\", \"Y_VAR\": \"l - luxury\", \"TOTAL_VALUE\": 1954875.0, \"Y_VAR_TYPE\": \"Bathroom Style\"}, {\"NEIGHBORHOOD\": \"Beacon Hill\", \"OVERALL_COND\": \"unknown\", \"Y_VAR\": \"m - modern\", \"TOTAL_VALUE\": 908677.2727272727, \"Y_VAR_TYPE\": \"Bathroom Style\"}, {\"NEIGHBORHOOD\": \"Beacon Hill\", \"OVERALL_COND\": \"unknown\", \"Y_VAR\": \"s - semi-modern\", \"TOTAL_VALUE\": 998064.2857142857, \"Y_VAR_TYPE\": \"Bathroom Style\"}, {\"NEIGHBORHOOD\": \"Beacon Hill\", \"OVERALL_COND\": \"vg - very good\", \"Y_VAR\": \"m - modern\", \"TOTAL_VALUE\": 696741.6666666666, \"Y_VAR_TYPE\": \"Bathroom Style\"}, {\"NEIGHBORHOOD\": \"Beacon Hill\", \"OVERALL_COND\": \"vg - very good\", \"Y_VAR\": \"s - semi-modern\", \"TOTAL_VALUE\": 635600.0, \"Y_VAR_TYPE\": \"Bathroom Style\"}, {\"NEIGHBORHOOD\": \"Downtown\", \"OVERALL_COND\": \"a - average\", \"Y_VAR\": \"l - luxury\", \"TOTAL_VALUE\": 2000745.0, \"Y_VAR_TYPE\": \"Bathroom Style\"}, {\"NEIGHBORHOOD\": \"Downtown\", \"OVERALL_COND\": \"a - average\", \"Y_VAR\": \"m - modern\", \"TOTAL_VALUE\": 1238514.910025707, \"Y_VAR_TYPE\": \"Bathroom Style\"}, {\"NEIGHBORHOOD\": \"Downtown\", \"OVERALL_COND\": \"a - average\", \"Y_VAR\": \"n - no remodeling\", \"TOTAL_VALUE\": 703262.5954198473, \"Y_VAR_TYPE\": \"Bathroom Style\"}, {\"NEIGHBORHOOD\": \"Downtown\", \"OVERALL_COND\": \"a - average\", \"Y_VAR\": \"s - semi-modern\", \"TOTAL_VALUE\": 1037366.8202764977, \"Y_VAR_TYPE\": \"Bathroom Style\"}, {\"NEIGHBORHOOD\": \"Downtown\", \"OVERALL_COND\": \"e - excellent\", \"Y_VAR\": \"l - luxury\", \"TOTAL_VALUE\": 2701006.603773585, \"Y_VAR_TYPE\": \"Bathroom Style\"}, {\"NEIGHBORHOOD\": \"Downtown\", \"OVERALL_COND\": \"e - excellent\", \"Y_VAR\": \"m - modern\", \"TOTAL_VALUE\": 2683518.75, \"Y_VAR_TYPE\": \"Bathroom Style\"}, {\"NEIGHBORHOOD\": \"Downtown\", \"OVERALL_COND\": \"e - excellent\", \"Y_VAR\": \"s - semi-modern\", \"TOTAL_VALUE\": 2759900.0, \"Y_VAR_TYPE\": \"Bathroom Style\"}, {\"NEIGHBORHOOD\": \"Downtown\", \"OVERALL_COND\": \"ex - excellent\", \"Y_VAR\": \"l - luxury\", \"TOTAL_VALUE\": 2759900.0, \"Y_VAR_TYPE\": \"Bathroom Style\"}, {\"NEIGHBORHOOD\": \"Downtown\", \"OVERALL_COND\": \"ex - excellent\", \"Y_VAR\": \"m - modern\", \"TOTAL_VALUE\": 2759900.0, \"Y_VAR_TYPE\": \"Bathroom Style\"}, {\"NEIGHBORHOOD\": \"Downtown\", \"OVERALL_COND\": \"f - fair\", \"Y_VAR\": \"n - no remodeling\", \"TOTAL_VALUE\": 2511050.0, \"Y_VAR_TYPE\": \"Bathroom Style\"}, {\"NEIGHBORHOOD\": \"Downtown\", \"OVERALL_COND\": \"f - fair\", \"Y_VAR\": \"s - semi-modern\", \"TOTAL_VALUE\": 1540300.0, \"Y_VAR_TYPE\": \"Bathroom Style\"}, {\"NEIGHBORHOOD\": \"Downtown\", \"OVERALL_COND\": \"g - good\", \"Y_VAR\": \"l - luxury\", \"TOTAL_VALUE\": 2439182.4175824174, \"Y_VAR_TYPE\": \"Bathroom Style\"}, {\"NEIGHBORHOOD\": \"Downtown\", \"OVERALL_COND\": \"g - good\", \"Y_VAR\": \"m - modern\", \"TOTAL_VALUE\": 1950948.125, \"Y_VAR_TYPE\": \"Bathroom Style\"}, {\"NEIGHBORHOOD\": \"Downtown\", \"OVERALL_COND\": \"g - good\", \"Y_VAR\": \"n - no remodeling\", \"TOTAL_VALUE\": 1487850.0, \"Y_VAR_TYPE\": \"Bathroom Style\"}, {\"NEIGHBORHOOD\": \"Downtown\", \"OVERALL_COND\": \"g - good\", \"Y_VAR\": \"s - semi-modern\", \"TOTAL_VALUE\": 1730950.0, \"Y_VAR_TYPE\": \"Bathroom Style\"}, {\"NEIGHBORHOOD\": \"Downtown\", \"OVERALL_COND\": \"unknown\", \"Y_VAR\": \"l - luxury\", \"TOTAL_VALUE\": 1052200.0, \"Y_VAR_TYPE\": \"Bathroom Style\"}, {\"NEIGHBORHOOD\": \"Downtown\", \"OVERALL_COND\": \"unknown\", \"Y_VAR\": \"m - modern\", \"TOTAL_VALUE\": 2001333.3333333333, \"Y_VAR_TYPE\": \"Bathroom Style\"}, {\"NEIGHBORHOOD\": \"Downtown\", \"OVERALL_COND\": \"unknown\", \"Y_VAR\": \"n - no remodeling\", \"TOTAL_VALUE\": 2178500.0, \"Y_VAR_TYPE\": \"Bathroom Style\"}, {\"NEIGHBORHOOD\": \"Downtown\", \"OVERALL_COND\": \"vg - very good\", \"Y_VAR\": \"l - luxury\", \"TOTAL_VALUE\": 2457642.8571428573, \"Y_VAR_TYPE\": \"Bathroom Style\"}, {\"NEIGHBORHOOD\": \"Downtown\", \"OVERALL_COND\": \"vg - very good\", \"Y_VAR\": \"m - modern\", \"TOTAL_VALUE\": 1418900.0, \"Y_VAR_TYPE\": \"Bathroom Style\"}, {\"NEIGHBORHOOD\": \"Downtown\", \"OVERALL_COND\": \"vg - very good\", \"Y_VAR\": \"s - semi-modern\", \"TOTAL_VALUE\": 744000.0, \"Y_VAR_TYPE\": \"Bathroom Style\"}, {\"NEIGHBORHOOD\": \"Fenway/Kenmore\", \"OVERALL_COND\": \"a - average\", \"Y_VAR\": \"l - luxury\", \"TOTAL_VALUE\": 2338004.5454545454, \"Y_VAR_TYPE\": \"Bathroom Style\"}, {\"NEIGHBORHOOD\": \"Fenway/Kenmore\", \"OVERALL_COND\": \"a - average\", \"Y_VAR\": \"m - modern\", \"TOTAL_VALUE\": 740888.940092166, \"Y_VAR_TYPE\": \"Bathroom Style\"}, {\"NEIGHBORHOOD\": \"Fenway/Kenmore\", \"OVERALL_COND\": \"a - average\", \"Y_VAR\": \"n - no remodeling\", \"TOTAL_VALUE\": 491456.1728395062, \"Y_VAR_TYPE\": \"Bathroom Style\"}, {\"NEIGHBORHOOD\": \"Fenway/Kenmore\", \"OVERALL_COND\": \"a - average\", \"Y_VAR\": \"s - semi-modern\", \"TOTAL_VALUE\": 589132.8869047619, \"Y_VAR_TYPE\": \"Bathroom Style\"}, {\"NEIGHBORHOOD\": \"Fenway/Kenmore\", \"OVERALL_COND\": \"e - excellent\", \"Y_VAR\": \"l - luxury\", \"TOTAL_VALUE\": 2759900.0, \"Y_VAR_TYPE\": \"Bathroom Style\"}, {\"NEIGHBORHOOD\": \"Fenway/Kenmore\", \"OVERALL_COND\": \"ex - excellent\", \"Y_VAR\": \"l - luxury\", \"TOTAL_VALUE\": 1624572.2222222222, \"Y_VAR_TYPE\": \"Bathroom Style\"}, {\"NEIGHBORHOOD\": \"Fenway/Kenmore\", \"OVERALL_COND\": \"g - good\", \"Y_VAR\": \"l - luxury\", \"TOTAL_VALUE\": 773875.925925926, \"Y_VAR_TYPE\": \"Bathroom Style\"}, {\"NEIGHBORHOOD\": \"Fenway/Kenmore\", \"OVERALL_COND\": \"g - good\", \"Y_VAR\": \"m - modern\", \"TOTAL_VALUE\": 733195.5882352941, \"Y_VAR_TYPE\": \"Bathroom Style\"}, {\"NEIGHBORHOOD\": \"Fenway/Kenmore\", \"OVERALL_COND\": \"g - good\", \"Y_VAR\": \"n - no remodeling\", \"TOTAL_VALUE\": 657460.0, \"Y_VAR_TYPE\": \"Bathroom Style\"}, {\"NEIGHBORHOOD\": \"Fenway/Kenmore\", \"OVERALL_COND\": \"g - good\", \"Y_VAR\": \"s - semi-modern\", \"TOTAL_VALUE\": 657028.2051282051, \"Y_VAR_TYPE\": \"Bathroom Style\"}, {\"NEIGHBORHOOD\": \"Fenway/Kenmore\", \"OVERALL_COND\": \"unknown\", \"Y_VAR\": \"m - modern\", \"TOTAL_VALUE\": 829869.2307692308, \"Y_VAR_TYPE\": \"Bathroom Style\"}, {\"NEIGHBORHOOD\": \"Fenway/Kenmore\", \"OVERALL_COND\": \"unknown\", \"Y_VAR\": \"s - semi-modern\", \"TOTAL_VALUE\": 464048.21428571426, \"Y_VAR_TYPE\": \"Bathroom Style\"}, {\"NEIGHBORHOOD\": \"Fenway/Kenmore\", \"OVERALL_COND\": \"vg - very good\", \"Y_VAR\": \"l - luxury\", \"TOTAL_VALUE\": 2639533.3333333335, \"Y_VAR_TYPE\": \"Bathroom Style\"}, {\"NEIGHBORHOOD\": \"Fenway/Kenmore\", \"OVERALL_COND\": \"vg - very good\", \"Y_VAR\": \"m - modern\", \"TOTAL_VALUE\": 1813750.0, \"Y_VAR_TYPE\": \"Bathroom Style\"}, {\"NEIGHBORHOOD\": \"Fenway/Kenmore\", \"OVERALL_COND\": \"vg - very good\", \"Y_VAR\": \"s - semi-modern\", \"TOTAL_VALUE\": 1468000.0, \"Y_VAR_TYPE\": \"Bathroom Style\"}, {\"NEIGHBORHOOD\": \"Financial District\", \"OVERALL_COND\": \"a - average\", \"Y_VAR\": \"l - luxury\", \"TOTAL_VALUE\": 1869336.704730832, \"Y_VAR_TYPE\": \"Bathroom Style\"}, {\"NEIGHBORHOOD\": \"Financial District\", \"OVERALL_COND\": \"a - average\", \"Y_VAR\": \"m - modern\", \"TOTAL_VALUE\": 1002691.9793014231, \"Y_VAR_TYPE\": \"Bathroom Style\"}, {\"NEIGHBORHOOD\": \"Financial District\", \"OVERALL_COND\": \"a - average\", \"Y_VAR\": \"n - no remodeling\", \"TOTAL_VALUE\": 781224.3243243244, \"Y_VAR_TYPE\": \"Bathroom Style\"}, {\"NEIGHBORHOOD\": \"Financial District\", \"OVERALL_COND\": \"a - average\", \"Y_VAR\": \"s - semi-modern\", \"TOTAL_VALUE\": 839931.6455696203, \"Y_VAR_TYPE\": \"Bathroom Style\"}, {\"NEIGHBORHOOD\": \"Financial District\", \"OVERALL_COND\": \"e - excellent\", \"Y_VAR\": \"l - luxury\", \"TOTAL_VALUE\": 2420438.2352941176, \"Y_VAR_TYPE\": \"Bathroom Style\"}, {\"NEIGHBORHOOD\": \"Financial District\", \"OVERALL_COND\": \"ex - excellent\", \"Y_VAR\": \"l - luxury\", \"TOTAL_VALUE\": 2011800.0, \"Y_VAR_TYPE\": \"Bathroom Style\"}, {\"NEIGHBORHOOD\": \"Financial District\", \"OVERALL_COND\": \"g - good\", \"Y_VAR\": \"l - luxury\", \"TOTAL_VALUE\": 2049562.5, \"Y_VAR_TYPE\": \"Bathroom Style\"}, {\"NEIGHBORHOOD\": \"Financial District\", \"OVERALL_COND\": \"g - good\", \"Y_VAR\": \"m - modern\", \"TOTAL_VALUE\": 1204536.6666666667, \"Y_VAR_TYPE\": \"Bathroom Style\"}, {\"NEIGHBORHOOD\": \"Financial District\", \"OVERALL_COND\": \"unknown\", \"Y_VAR\": \"m - modern\", \"TOTAL_VALUE\": 783711.3636363636, \"Y_VAR_TYPE\": \"Bathroom Style\"}, {\"NEIGHBORHOOD\": \"Financial District\", \"OVERALL_COND\": \"vg - very good\", \"Y_VAR\": \"l - luxury\", \"TOTAL_VALUE\": 2228133.3333333335, \"Y_VAR_TYPE\": \"Bathroom Style\"}, {\"NEIGHBORHOOD\": \"Financial District\", \"OVERALL_COND\": \"vg - very good\", \"Y_VAR\": \"m - modern\", \"TOTAL_VALUE\": 1436000.0, \"Y_VAR_TYPE\": \"Bathroom Style\"}, {\"NEIGHBORHOOD\": \"Financial District\", \"OVERALL_COND\": \"vg - very good\", \"Y_VAR\": \"n - no remodeling\", \"TOTAL_VALUE\": 2759900.0, \"Y_VAR_TYPE\": \"Bathroom Style\"}, {\"NEIGHBORHOOD\": \"North End\", \"OVERALL_COND\": \"a - average\", \"Y_VAR\": \"l - luxury\", \"TOTAL_VALUE\": 2098158.73015873, \"Y_VAR_TYPE\": \"Bathroom Style\"}, {\"NEIGHBORHOOD\": \"North End\", \"OVERALL_COND\": \"a - average\", \"Y_VAR\": \"m - modern\", \"TOTAL_VALUE\": 872548.3969465649, \"Y_VAR_TYPE\": \"Bathroom Style\"}, {\"NEIGHBORHOOD\": \"North End\", \"OVERALL_COND\": \"a - average\", \"Y_VAR\": \"n - no remodeling\", \"TOTAL_VALUE\": 792579.4117647059, \"Y_VAR_TYPE\": \"Bathroom Style\"}, {\"NEIGHBORHOOD\": \"North End\", \"OVERALL_COND\": \"a - average\", \"Y_VAR\": \"s - semi-modern\", \"TOTAL_VALUE\": 706656.9620253164, \"Y_VAR_TYPE\": \"Bathroom Style\"}, {\"NEIGHBORHOOD\": \"North End\", \"OVERALL_COND\": \"e - excellent\", \"Y_VAR\": \"l - luxury\", \"TOTAL_VALUE\": 2759900.0, \"Y_VAR_TYPE\": \"Bathroom Style\"}, {\"NEIGHBORHOOD\": \"North End\", \"OVERALL_COND\": \"ex - excellent\", \"Y_VAR\": \"l - luxury\", \"TOTAL_VALUE\": 2231433.3333333335, \"Y_VAR_TYPE\": \"Bathroom Style\"}, {\"NEIGHBORHOOD\": \"North End\", \"OVERALL_COND\": \"ex - excellent\", \"Y_VAR\": \"m - modern\", \"TOTAL_VALUE\": 1852200.0, \"Y_VAR_TYPE\": \"Bathroom Style\"}, {\"NEIGHBORHOOD\": \"North End\", \"OVERALL_COND\": \"f - fair\", \"Y_VAR\": \"n - no remodeling\", \"TOTAL_VALUE\": 973550.0, \"Y_VAR_TYPE\": \"Bathroom Style\"}, {\"NEIGHBORHOOD\": \"North End\", \"OVERALL_COND\": \"g - good\", \"Y_VAR\": \"l - luxury\", \"TOTAL_VALUE\": 2010193.75, \"Y_VAR_TYPE\": \"Bathroom Style\"}, {\"NEIGHBORHOOD\": \"North End\", \"OVERALL_COND\": \"g - good\", \"Y_VAR\": \"m - modern\", \"TOTAL_VALUE\": 911918.0952380953, \"Y_VAR_TYPE\": \"Bathroom Style\"}, {\"NEIGHBORHOOD\": \"North End\", \"OVERALL_COND\": \"g - good\", \"Y_VAR\": \"n - no remodeling\", \"TOTAL_VALUE\": 978700.0, \"Y_VAR_TYPE\": \"Bathroom Style\"}, {\"NEIGHBORHOOD\": \"North End\", \"OVERALL_COND\": \"g - good\", \"Y_VAR\": \"s - semi-modern\", \"TOTAL_VALUE\": 702385.7142857143, \"Y_VAR_TYPE\": \"Bathroom Style\"}, {\"NEIGHBORHOOD\": \"North End\", \"OVERALL_COND\": \"unknown\", \"Y_VAR\": \"l - luxury\", \"TOTAL_VALUE\": 2759900.0, \"Y_VAR_TYPE\": \"Bathroom Style\"}, {\"NEIGHBORHOOD\": \"North End\", \"OVERALL_COND\": \"unknown\", \"Y_VAR\": \"m - modern\", \"TOTAL_VALUE\": 760994.4444444445, \"Y_VAR_TYPE\": \"Bathroom Style\"}, {\"NEIGHBORHOOD\": \"North End\", \"OVERALL_COND\": \"unknown\", \"Y_VAR\": \"n - no remodeling\", \"TOTAL_VALUE\": 557700.0, \"Y_VAR_TYPE\": \"Bathroom Style\"}, {\"NEIGHBORHOOD\": \"North End\", \"OVERALL_COND\": \"unknown\", \"Y_VAR\": \"s - semi-modern\", \"TOTAL_VALUE\": 785100.0, \"Y_VAR_TYPE\": \"Bathroom Style\"}, {\"NEIGHBORHOOD\": \"Seaport\", \"OVERALL_COND\": \"a - average\", \"Y_VAR\": \"l - luxury\", \"TOTAL_VALUE\": 2050467.4157303371, \"Y_VAR_TYPE\": \"Bathroom Style\"}, {\"NEIGHBORHOOD\": \"Seaport\", \"OVERALL_COND\": \"a - average\", \"Y_VAR\": \"m - modern\", \"TOTAL_VALUE\": 891727.6785714285, \"Y_VAR_TYPE\": \"Bathroom Style\"}, {\"NEIGHBORHOOD\": \"Seaport\", \"OVERALL_COND\": \"a - average\", \"Y_VAR\": \"s - semi-modern\", \"TOTAL_VALUE\": 966043.9393939395, \"Y_VAR_TYPE\": \"Bathroom Style\"}, {\"NEIGHBORHOOD\": \"Seaport\", \"OVERALL_COND\": \"e - excellent\", \"Y_VAR\": \"l - luxury\", \"TOTAL_VALUE\": 1507099.132947977, \"Y_VAR_TYPE\": \"Bathroom Style\"}, {\"NEIGHBORHOOD\": \"Seaport\", \"OVERALL_COND\": \"ex - excellent\", \"Y_VAR\": \"l - luxury\", \"TOTAL_VALUE\": 1788599.0476190476, \"Y_VAR_TYPE\": \"Bathroom Style\"}, {\"NEIGHBORHOOD\": \"Seaport\", \"OVERALL_COND\": \"f - fair\", \"Y_VAR\": \"l - luxury\", \"TOTAL_VALUE\": 2351900.0, \"Y_VAR_TYPE\": \"Bathroom Style\"}, {\"NEIGHBORHOOD\": \"Seaport\", \"OVERALL_COND\": \"g - good\", \"Y_VAR\": \"l - luxury\", \"TOTAL_VALUE\": 2555182.644628099, \"Y_VAR_TYPE\": \"Bathroom Style\"}, {\"NEIGHBORHOOD\": \"Seaport\", \"OVERALL_COND\": \"g - good\", \"Y_VAR\": \"m - modern\", \"TOTAL_VALUE\": 1474446.6666666667, \"Y_VAR_TYPE\": \"Bathroom Style\"}, {\"NEIGHBORHOOD\": \"Seaport\", \"OVERALL_COND\": \"g - good\", \"Y_VAR\": \"s - semi-modern\", \"TOTAL_VALUE\": 1220417.142857143, \"Y_VAR_TYPE\": \"Bathroom Style\"}, {\"NEIGHBORHOOD\": \"Seaport\", \"OVERALL_COND\": \"unknown\", \"Y_VAR\": \"l - luxury\", \"TOTAL_VALUE\": 1661342.857142857, \"Y_VAR_TYPE\": \"Bathroom Style\"}, {\"NEIGHBORHOOD\": \"Seaport\", \"OVERALL_COND\": \"unknown\", \"Y_VAR\": \"m - modern\", \"TOTAL_VALUE\": 969605.303030303, \"Y_VAR_TYPE\": \"Bathroom Style\"}, {\"NEIGHBORHOOD\": \"Seaport\", \"OVERALL_COND\": \"unknown\", \"Y_VAR\": \"s - semi-modern\", \"TOTAL_VALUE\": 822684.9705882353, \"Y_VAR_TYPE\": \"Bathroom Style\"}, {\"NEIGHBORHOOD\": \"South End\", \"OVERALL_COND\": \"a - average\", \"Y_VAR\": \"l - luxury\", \"TOTAL_VALUE\": 2120965.3333333335, \"Y_VAR_TYPE\": \"Bathroom Style\"}, {\"NEIGHBORHOOD\": \"South End\", \"OVERALL_COND\": \"a - average\", \"Y_VAR\": \"m - modern\", \"TOTAL_VALUE\": 994595.8657577346, \"Y_VAR_TYPE\": \"Bathroom Style\"}, {\"NEIGHBORHOOD\": \"South End\", \"OVERALL_COND\": \"a - average\", \"Y_VAR\": \"n - no remodeling\", \"TOTAL_VALUE\": 1322867.5, \"Y_VAR_TYPE\": \"Bathroom Style\"}, {\"NEIGHBORHOOD\": \"South End\", \"OVERALL_COND\": \"a - average\", \"Y_VAR\": \"s - semi-modern\", \"TOTAL_VALUE\": 823097.920997921, \"Y_VAR_TYPE\": \"Bathroom Style\"}, {\"NEIGHBORHOOD\": \"South End\", \"OVERALL_COND\": \"e - excellent\", \"Y_VAR\": \"l - luxury\", \"TOTAL_VALUE\": 2209847.794117647, \"Y_VAR_TYPE\": \"Bathroom Style\"}, {\"NEIGHBORHOOD\": \"South End\", \"OVERALL_COND\": \"e - excellent\", \"Y_VAR\": \"m - modern\", \"TOTAL_VALUE\": 2609920.0, \"Y_VAR_TYPE\": \"Bathroom Style\"}, {\"NEIGHBORHOOD\": \"South End\", \"OVERALL_COND\": \"ex - excellent\", \"Y_VAR\": \"l - luxury\", \"TOTAL_VALUE\": 2339250.0, \"Y_VAR_TYPE\": \"Bathroom Style\"}, {\"NEIGHBORHOOD\": \"South End\", \"OVERALL_COND\": \"f - fair\", \"Y_VAR\": \"m - modern\", \"TOTAL_VALUE\": 1921100.0, \"Y_VAR_TYPE\": \"Bathroom Style\"}, {\"NEIGHBORHOOD\": \"South End\", \"OVERALL_COND\": \"f - fair\", \"Y_VAR\": \"n - no remodeling\", \"TOTAL_VALUE\": 2296764.285714286, \"Y_VAR_TYPE\": \"Bathroom Style\"}, {\"NEIGHBORHOOD\": \"South End\", \"OVERALL_COND\": \"g - good\", \"Y_VAR\": \"l - luxury\", \"TOTAL_VALUE\": 1752164.1361256544, \"Y_VAR_TYPE\": \"Bathroom Style\"}, {\"NEIGHBORHOOD\": \"South End\", \"OVERALL_COND\": \"g - good\", \"Y_VAR\": \"m - modern\", \"TOTAL_VALUE\": 1154352.3996852871, \"Y_VAR_TYPE\": \"Bathroom Style\"}, {\"NEIGHBORHOOD\": \"South End\", \"OVERALL_COND\": \"g - good\", \"Y_VAR\": \"n - no remodeling\", \"TOTAL_VALUE\": 809650.0, \"Y_VAR_TYPE\": \"Bathroom Style\"}, {\"NEIGHBORHOOD\": \"South End\", \"OVERALL_COND\": \"g - good\", \"Y_VAR\": \"s - semi-modern\", \"TOTAL_VALUE\": 988869.0, \"Y_VAR_TYPE\": \"Bathroom Style\"}, {\"NEIGHBORHOOD\": \"South End\", \"OVERALL_COND\": \"p - poor\", \"Y_VAR\": \"n - no remodeling\", \"TOTAL_VALUE\": 1976325.0, \"Y_VAR_TYPE\": \"Bathroom Style\"}, {\"NEIGHBORHOOD\": \"South End\", \"OVERALL_COND\": \"unknown\", \"Y_VAR\": \"l - luxury\", \"TOTAL_VALUE\": 1824788.888888889, \"Y_VAR_TYPE\": \"Bathroom Style\"}, {\"NEIGHBORHOOD\": \"South End\", \"OVERALL_COND\": \"unknown\", \"Y_VAR\": \"m - modern\", \"TOTAL_VALUE\": 996557.3136363636, \"Y_VAR_TYPE\": \"Bathroom Style\"}, {\"NEIGHBORHOOD\": \"South End\", \"OVERALL_COND\": \"unknown\", \"Y_VAR\": \"n - no remodeling\", \"TOTAL_VALUE\": 691600.0, \"Y_VAR_TYPE\": \"Bathroom Style\"}, {\"NEIGHBORHOOD\": \"South End\", \"OVERALL_COND\": \"unknown\", \"Y_VAR\": \"s - semi-modern\", \"TOTAL_VALUE\": 635654.4117647059, \"Y_VAR_TYPE\": \"Bathroom Style\"}, {\"NEIGHBORHOOD\": \"South End\", \"OVERALL_COND\": \"vg - very good\", \"Y_VAR\": \"l - luxury\", \"TOTAL_VALUE\": 1086200.0, \"Y_VAR_TYPE\": \"Bathroom Style\"}, {\"NEIGHBORHOOD\": \"South End\", \"OVERALL_COND\": \"vg - very good\", \"Y_VAR\": \"m - modern\", \"TOTAL_VALUE\": 1294988.0, \"Y_VAR_TYPE\": \"Bathroom Style\"}, {\"NEIGHBORHOOD\": \"South End\", \"OVERALL_COND\": \"vg - very good\", \"Y_VAR\": \"s - semi-modern\", \"TOTAL_VALUE\": 751057.0247933884, \"Y_VAR_TYPE\": \"Bathroom Style\"}]}}, {\"mode\": \"vega-lite\"});\n",
       "</script>"
      ],
      "text/plain": [
       "alt.Chart(...)"
      ]
     },
     "execution_count": 57,
     "metadata": {},
     "output_type": "execute_result"
    }
   ],
   "source": [
    "# Create heatmap\n",
    "heatmap = alt.Chart(df_agg).mark_rect().encode(\n",
    "    x=alt.X('NEIGHBORHOOD:N', title='Neighborhood', sort='-color', axis=alt.Axis(labelAngle=45)),  \n",
    "    y=alt.Y('Y_VAR:N', title='Amenity Style'), \n",
    "    color=alt.Color('TOTAL_VALUE:Q', title='Avg Total Value ($)', scale=alt.Scale(scheme='viridis'), legend=alt.Legend(format=',.0f')),\n",
    "    tooltip=[\n",
    "        alt.Tooltip('NEIGHBORHOOD:N', title='Neighborhood'),\n",
    "        alt.Tooltip('OVERALL_COND:N', title='Overall Condition'),  \n",
    "        alt.Tooltip('Y_VAR:N', title='Amenity Style'),  \n",
    "        alt.Tooltip('Y_VAR_TYPE:N', title='Amenity Type'),\n",
    "        alt.Tooltip('TOTAL_VALUE:Q', title='Avg Total Value ($)', format=',.0f')\n",
    "    ]\n",
    ").properties(\n",
    "    width=400,\n",
    "    height=300,\n",
    "    title='Amenities and Condition Price Premium by Neighborhood'\n",
    ").add_params(\n",
    "    condition_selection,\n",
    "    y_var_selection\n",
    ").transform_filter(\n",
    "    condition_selection & y_var_selection  \n",
    ").interactive()\n",
    "\n",
    "# Save the chart\n",
    "heatmap.save('amenities_condition_price_premium_full_names.html')\n",
    "heatmap"
   ]
  },
  {
   "cell_type": "markdown",
   "id": "a39714e1-e694-40eb-94fa-7cae404a21d8",
   "metadata": {},
   "source": [
    "## Visualization - 5. Owner-Occupancy and Property Value Relationship (Boxplot & Barplot)"
   ]
  },
  {
   "cell_type": "code",
   "execution_count": 58,
   "id": "78401937-c919-43e4-beab-703391753c49",
   "metadata": {},
   "outputs": [
    {
     "data": {
      "image/png": "[encoded data removed]",
      "text/plain": [
       "<Figure size 1500x1000 with 4 Axes>"
      ]
     },
     "metadata": {},
     "output_type": "display_data"
    }
   ],
   "source": [
    "df_filtered = df_cleaned[\n",
    "    (df_cleaned['OWN_OCC'] != 'Unknown') & \n",
    "    (df_cleaned['PROP_VIEW'] != 'Unknown') & \n",
    "    (df_cleaned['CORNER_UNIT'] != 'Unknown')\n",
    "]\n",
    "\n",
    "# set Seaborn's default styling to call\n",
    "sns.set()\n",
    "sns.set_palette(\"deep\")\n",
    "\n",
    "# create figure\n",
    "fig = plt.figure(figsize=(15, 10))\n",
    "gs = fig.add_gridspec(2, 2, height_ratios=[1, 1])\n",
    "\n",
    "# create plot1 Box plot: Owner Occupancy vs Total Value\n",
    "ax1 = fig.add_subplot(gs[0, 0])\n",
    "sns.boxplot(data=df_filtered, x='OWN_OCC', y='TOTAL_VALUE', ax=ax1)\n",
    "ax1.set_title('Total Value by Owner Occupancy', pad=10)\n",
    "ax1.set_xlabel('Owner Occupied')\n",
    "ax1.set_ylabel('Total Value ($)')\n",
    "ax1.set_yscale('log')\n",
    "\n",
    "# create plot 2 Box plot: Property View vs Total Value\n",
    "ax2 = fig.add_subplot(gs[0, 1])\n",
    "sns.boxplot(data=df_filtered, x='PROP_VIEW', y='TOTAL_VALUE', ax=ax2)\n",
    "ax2.set_title('Total Value by Property View', pad=10)\n",
    "ax2.set_xlabel('Property View')\n",
    "ax2.set_ylabel('Total Value ($)')\n",
    "ax2.set_yscale('log')\n",
    "ax2.tick_params(axis='x', rotation=45)\n",
    "\n",
    "# create plot 3 Box plot: Corner Unit vs Total Value\n",
    "ax3 = fig.add_subplot(gs[1, 0])\n",
    "sns.boxplot(data=df_filtered, x='CORNER_UNIT', y='TOTAL_VALUE', ax=ax3)\n",
    "ax3.set_title('Total Value by Corner Unit Status', pad=10)\n",
    "ax3.set_xlabel('Corner Unit')\n",
    "ax3.set_ylabel('Total Value ($)')\n",
    "ax3.set_yscale('log')\n",
    "\n",
    "# create plot 4 Bar plot: Mean Values by Owner Occupancy\n",
    "ax4 = fig.add_subplot(gs[1, 1])\n",
    "value_means = df_filtered.groupby('OWN_OCC')[['TOTAL_VALUE', 'BLDG_VALUE']].mean()\n",
    "value_means.plot(kind='bar', ax=ax4)\n",
    "ax4.set_title('Mean Values by Owner Occupancy', pad=10)\n",
    "ax4.set_xlabel('Owner Occupied')\n",
    "ax4.set_ylabel('Mean Value ($)')\n",
    "ax4.tick_params(axis='x', rotation=0)\n",
    "ax4.legend(['Total Value', 'Building Value'])\n",
    "\n",
    "# Adjust layout\n",
    "plt.tight_layout()\n",
    "\n",
    "# Add overall title\n",
    "fig.suptitle('Owner-Occupancy and Property Value Relationships', \n",
    "             fontsize=16, \n",
    "             y=1.02)\n",
    "\n",
    "plt.show()"
   ]
  },
  {
   "cell_type": "code",
   "execution_count": 59,
   "id": "2fbb0b06-1b53-4203-abb5-13f812d98000",
   "metadata": {},
   "outputs": [
    {
     "name": "stdout",
     "output_type": "stream",
     "text": [
      "\n",
      "Statistical Summary by Owner Occupancy:\n",
      "        TOTAL_VALUE                  LAND_VALUE BLDG_VALUE\n",
      "               mean    median  count       mean       mean\n",
      "OWN_OCC                                                   \n",
      "N         756504.44  572850.0  35780       7.85  833402.52\n",
      "Y         809561.96  636100.0  36189      52.69  838798.06\n"
     ]
    }
   ],
   "source": [
    "# Calculate some basic statistics for insights (excluding Unknown)\n",
    "stats = df_filtered.groupby('OWN_OCC').agg({\n",
    "    'TOTAL_VALUE': ['mean', 'median', 'count'],\n",
    "    'LAND_VALUE': ['mean'],\n",
    "    'BLDG_VALUE': ['mean']\n",
    "}).round(2)\n",
    "\n",
    "print(\"\\nStatistical Summary by Owner Occupancy:\")\n",
    "print(stats)"
   ]
  },
  {
   "cell_type": "code",
   "execution_count": null,
   "id": "58ea6590-d60e-44fb-b54b-da931f8ea346",
   "metadata": {},
   "outputs": [],
   "source": []
  }
 ],
 "metadata": {
  "kernelspec": {
   "display_name": "DS3500",
   "language": "python",
   "name": "python3"
  },
  "language_info": {
   "codemirror_mode": {
    "name": "ipython",
    "version": 3
   },
   "file_extension": ".py",
   "mimetype": "text/x-python",
   "name": "python",
   "nbconvert_exporter": "python",
   "pygments_lexer": "ipython3",
   "version": "3.12.8"
  }
 },
 "nbformat": 4,
 "nbformat_minor": 5
}
